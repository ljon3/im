{
 "cells": [
  {
   "cell_type": "code",
   "execution_count": 5,
   "metadata": {},
   "outputs": [],
   "source": [
    "from strategy.Manager import CapWeight\n",
    "import pandas as pd\n",
    "from utilities.utils import fullpath"
   ]
  },
  {
   "cell_type": "code",
   "execution_count": 6,
   "metadata": {},
   "outputs": [
    {
     "data": {
      "text/plain": [
       "'data/strategy/caps'"
      ]
     },
     "execution_count": 6,
     "metadata": {},
     "output_type": "execute_result"
    }
   ],
   "source": [
    "cw = CapWeight(20250331)\n",
    "cw.path_strategy(\"caps\")"
   ]
  },
  {
   "cell_type": "code",
   "execution_count": 7,
   "metadata": {},
   "outputs": [],
   "source": [
    "[old, new, df_wgts] = cw.calculate_weights()"
   ]
  },
  {
   "cell_type": "code",
   "execution_count": 4,
   "metadata": {},
   "outputs": [
    {
     "data": {
      "application/vnd.microsoft.datawrangler.viewer.v0+json": {
       "columns": [
        {
         "name": "index",
         "rawType": "int64",
         "type": "integer"
        },
        {
         "name": "Symbol",
         "rawType": "object",
         "type": "string"
        },
        {
         "name": "Weights_old",
         "rawType": "float64",
         "type": "float"
        },
        {
         "name": "Weights_new",
         "rawType": "float64",
         "type": "float"
        }
       ],
       "conversionMethod": "pd.DataFrame",
       "ref": "e0a878ae-b3ba-4387-b344-bee304aa8c7f",
       "rows": [
        [
         "0",
         "AC.PA",
         "0.0041090098887025",
         "0.004179481475637064"
        ],
        [
         "1",
         "AI.PA",
         "0.0417267158208944",
         "0.04374099891801646"
        ],
        [
         "2",
         "AIR.PA",
         "0.0529973019528613",
         "0.047099322612852886"
        ],
        [
         "3",
         "MT.AS",
         "0.0080166974876071",
         "0.007945667888646745"
        ],
        [
         "4",
         "CS.PA",
         "0.0358508206902827",
         "0.0376522876662131"
        ],
        [
         "5",
         "BNP.PA",
         "0.0351868014657582",
         "0.03500078684723945"
        ],
        [
         "6",
         "EN.PA",
         "0.0057998310049529",
         "0.006161533643580837"
        ],
        [
         "7",
         "CAP.PA",
         "0.0097522347923931",
         "0.009369763872482992"
        ],
        [
         "8",
         "CA.PA",
         "0.0036727758862887",
         "0.003747534735752322"
        ],
        [
         "9",
         "ACA.PA",
         "0.0207666360102099",
         "0.021579104034967354"
        ],
        [
         "10",
         "BN.PA",
         "0.0196667630505515",
         "0.020719439898427824"
        ],
        [
         "11",
         "DSY.PA",
         "0.0188456571625231",
         "0.018870702424310683"
        ],
        [
         "12",
         "EDEN.PA",
         "0.0030870458418155",
         "0.003288341498342876"
        ],
        [
         "13",
         "ENGI.PA",
         "0.0191538247418731",
         "0.019874384018364402"
        ],
        [
         "14",
         "EL.PA",
         "0.0474801435480216",
         "0.04931515936433353"
        ],
        [
         "15",
         "ERF.PA",
         "0.0037885845578976",
         "0.003918472821891379"
        ],
        [
         "16",
         "RMS.PA",
         "0.1021363395299555",
         "0.10502088371045569"
        ],
        [
         "17",
         "KER.PA",
         "0.009507450214473",
         "0.008832694247660955"
        ],
        [
         "18",
         "OR.PA",
         "0.0774859719059011",
         "0.08000882146175077"
        ],
        [
         "19",
         "LR.PA",
         "0.0101870514349454",
         "0.010746162337983567"
        ],
        [
         "20",
         "MC.PA",
         "0.1130214652369374",
         "0.10607610148223229"
        ],
        [
         "21",
         "ML.PA",
         "0.0094598643096746",
         "0.009442244471966347"
        ],
        [
         "22",
         "ORA.PA",
         "0.0137206332788785",
         "0.014641461462915306"
        ],
        [
         "23",
         "RI.PA",
         "0.0094564380630718",
         "0.010167961912917549"
        ],
        [
         "24",
         "PUB.PA",
         "0.0090368799118678",
         "0.009327518883185748"
        ],
        [
         "25",
         "RNO.PA",
         "0.0055075582564735",
         "0.005553513410765251"
        ],
        [
         "26",
         "SAF.PA",
         "0.0408723598057693",
         "0.03902386695007589"
        ],
        [
         "27",
         "SGO.PA",
         "0.0189159575287934",
         "0.018844144893930027"
        ],
        [
         "28",
         "SAN.PA",
         "0.0523353347205722",
         "0.04852159121899067"
        ],
        [
         "29",
         "SU.PA",
         "0.0474813351375227",
         "0.05041001786548658"
        ],
        [
         "30",
         "GLE.PA",
         "0.0128309964837747",
         "0.013438050267406377"
        ],
        [
         "31",
         "STLAM.MI",
         "0.0115889556294526",
         "0.010461215215806497"
        ],
        [
         "32",
         "STMPA.PA",
         "0.0070382539852774",
         "0.0070162399976704025"
        ],
        [
         "33",
         "TEP.PA",
         "0.0023093631908924",
         "0.0023006519261554864"
        ],
        [
         "34",
         "HO.PA",
         "0.021795844981014",
         "0.022762383574643545"
        ],
        [
         "35",
         "TTE.PA",
         "0.052371970122713",
         "0.05013506256108345"
        ],
        [
         "36",
         "UBLB.F",
         "0.0045769605722683",
         "0.004474075034923416"
        ],
        [
         "37",
         "VIE.PA",
         "0.0099185502995117",
         "0.00991518901811186"
        ],
        [
         "38",
         "DG.PA",
         "0.0274437982586599",
         "0.029339714272212113"
        ],
        [
         "39",
         "VIV.PA",
         "0.0010998232389646",
         "0.0010774521006103102"
        ]
       ],
       "shape": {
        "columns": 3,
        "rows": 40
       }
      },
      "text/html": [
       "<div>\n",
       "<style scoped>\n",
       "    .dataframe tbody tr th:only-of-type {\n",
       "        vertical-align: middle;\n",
       "    }\n",
       "\n",
       "    .dataframe tbody tr th {\n",
       "        vertical-align: top;\n",
       "    }\n",
       "\n",
       "    .dataframe thead th {\n",
       "        text-align: right;\n",
       "    }\n",
       "</style>\n",
       "<table border=\"1\" class=\"dataframe\">\n",
       "  <thead>\n",
       "    <tr style=\"text-align: right;\">\n",
       "      <th></th>\n",
       "      <th>Symbol</th>\n",
       "      <th>Weights_old</th>\n",
       "      <th>Weights_new</th>\n",
       "    </tr>\n",
       "  </thead>\n",
       "  <tbody>\n",
       "    <tr>\n",
       "      <th>0</th>\n",
       "      <td>AC.PA</td>\n",
       "      <td>0.004109</td>\n",
       "      <td>0.004179</td>\n",
       "    </tr>\n",
       "    <tr>\n",
       "      <th>1</th>\n",
       "      <td>AI.PA</td>\n",
       "      <td>0.041727</td>\n",
       "      <td>0.043741</td>\n",
       "    </tr>\n",
       "    <tr>\n",
       "      <th>2</th>\n",
       "      <td>AIR.PA</td>\n",
       "      <td>0.052997</td>\n",
       "      <td>0.047099</td>\n",
       "    </tr>\n",
       "    <tr>\n",
       "      <th>3</th>\n",
       "      <td>MT.AS</td>\n",
       "      <td>0.008017</td>\n",
       "      <td>0.007946</td>\n",
       "    </tr>\n",
       "    <tr>\n",
       "      <th>4</th>\n",
       "      <td>CS.PA</td>\n",
       "      <td>0.035851</td>\n",
       "      <td>0.037652</td>\n",
       "    </tr>\n",
       "    <tr>\n",
       "      <th>5</th>\n",
       "      <td>BNP.PA</td>\n",
       "      <td>0.035187</td>\n",
       "      <td>0.035001</td>\n",
       "    </tr>\n",
       "    <tr>\n",
       "      <th>6</th>\n",
       "      <td>EN.PA</td>\n",
       "      <td>0.005800</td>\n",
       "      <td>0.006162</td>\n",
       "    </tr>\n",
       "    <tr>\n",
       "      <th>7</th>\n",
       "      <td>CAP.PA</td>\n",
       "      <td>0.009752</td>\n",
       "      <td>0.009370</td>\n",
       "    </tr>\n",
       "    <tr>\n",
       "      <th>8</th>\n",
       "      <td>CA.PA</td>\n",
       "      <td>0.003673</td>\n",
       "      <td>0.003748</td>\n",
       "    </tr>\n",
       "    <tr>\n",
       "      <th>9</th>\n",
       "      <td>ACA.PA</td>\n",
       "      <td>0.020767</td>\n",
       "      <td>0.021579</td>\n",
       "    </tr>\n",
       "    <tr>\n",
       "      <th>10</th>\n",
       "      <td>BN.PA</td>\n",
       "      <td>0.019667</td>\n",
       "      <td>0.020719</td>\n",
       "    </tr>\n",
       "    <tr>\n",
       "      <th>11</th>\n",
       "      <td>DSY.PA</td>\n",
       "      <td>0.018846</td>\n",
       "      <td>0.018871</td>\n",
       "    </tr>\n",
       "    <tr>\n",
       "      <th>12</th>\n",
       "      <td>EDEN.PA</td>\n",
       "      <td>0.003087</td>\n",
       "      <td>0.003288</td>\n",
       "    </tr>\n",
       "    <tr>\n",
       "      <th>13</th>\n",
       "      <td>ENGI.PA</td>\n",
       "      <td>0.019154</td>\n",
       "      <td>0.019874</td>\n",
       "    </tr>\n",
       "    <tr>\n",
       "      <th>14</th>\n",
       "      <td>EL.PA</td>\n",
       "      <td>0.047480</td>\n",
       "      <td>0.049315</td>\n",
       "    </tr>\n",
       "    <tr>\n",
       "      <th>15</th>\n",
       "      <td>ERF.PA</td>\n",
       "      <td>0.003789</td>\n",
       "      <td>0.003918</td>\n",
       "    </tr>\n",
       "    <tr>\n",
       "      <th>16</th>\n",
       "      <td>RMS.PA</td>\n",
       "      <td>0.102136</td>\n",
       "      <td>0.105021</td>\n",
       "    </tr>\n",
       "    <tr>\n",
       "      <th>17</th>\n",
       "      <td>KER.PA</td>\n",
       "      <td>0.009507</td>\n",
       "      <td>0.008833</td>\n",
       "    </tr>\n",
       "    <tr>\n",
       "      <th>18</th>\n",
       "      <td>OR.PA</td>\n",
       "      <td>0.077486</td>\n",
       "      <td>0.080009</td>\n",
       "    </tr>\n",
       "    <tr>\n",
       "      <th>19</th>\n",
       "      <td>LR.PA</td>\n",
       "      <td>0.010187</td>\n",
       "      <td>0.010746</td>\n",
       "    </tr>\n",
       "    <tr>\n",
       "      <th>20</th>\n",
       "      <td>MC.PA</td>\n",
       "      <td>0.113021</td>\n",
       "      <td>0.106076</td>\n",
       "    </tr>\n",
       "    <tr>\n",
       "      <th>21</th>\n",
       "      <td>ML.PA</td>\n",
       "      <td>0.009460</td>\n",
       "      <td>0.009442</td>\n",
       "    </tr>\n",
       "    <tr>\n",
       "      <th>22</th>\n",
       "      <td>ORA.PA</td>\n",
       "      <td>0.013721</td>\n",
       "      <td>0.014641</td>\n",
       "    </tr>\n",
       "    <tr>\n",
       "      <th>23</th>\n",
       "      <td>RI.PA</td>\n",
       "      <td>0.009456</td>\n",
       "      <td>0.010168</td>\n",
       "    </tr>\n",
       "    <tr>\n",
       "      <th>24</th>\n",
       "      <td>PUB.PA</td>\n",
       "      <td>0.009037</td>\n",
       "      <td>0.009328</td>\n",
       "    </tr>\n",
       "    <tr>\n",
       "      <th>25</th>\n",
       "      <td>RNO.PA</td>\n",
       "      <td>0.005508</td>\n",
       "      <td>0.005554</td>\n",
       "    </tr>\n",
       "    <tr>\n",
       "      <th>26</th>\n",
       "      <td>SAF.PA</td>\n",
       "      <td>0.040872</td>\n",
       "      <td>0.039024</td>\n",
       "    </tr>\n",
       "    <tr>\n",
       "      <th>27</th>\n",
       "      <td>SGO.PA</td>\n",
       "      <td>0.018916</td>\n",
       "      <td>0.018844</td>\n",
       "    </tr>\n",
       "    <tr>\n",
       "      <th>28</th>\n",
       "      <td>SAN.PA</td>\n",
       "      <td>0.052335</td>\n",
       "      <td>0.048522</td>\n",
       "    </tr>\n",
       "    <tr>\n",
       "      <th>29</th>\n",
       "      <td>SU.PA</td>\n",
       "      <td>0.047481</td>\n",
       "      <td>0.050410</td>\n",
       "    </tr>\n",
       "    <tr>\n",
       "      <th>30</th>\n",
       "      <td>GLE.PA</td>\n",
       "      <td>0.012831</td>\n",
       "      <td>0.013438</td>\n",
       "    </tr>\n",
       "    <tr>\n",
       "      <th>31</th>\n",
       "      <td>STLAM.MI</td>\n",
       "      <td>0.011589</td>\n",
       "      <td>0.010461</td>\n",
       "    </tr>\n",
       "    <tr>\n",
       "      <th>32</th>\n",
       "      <td>STMPA.PA</td>\n",
       "      <td>0.007038</td>\n",
       "      <td>0.007016</td>\n",
       "    </tr>\n",
       "    <tr>\n",
       "      <th>33</th>\n",
       "      <td>TEP.PA</td>\n",
       "      <td>0.002309</td>\n",
       "      <td>0.002301</td>\n",
       "    </tr>\n",
       "    <tr>\n",
       "      <th>34</th>\n",
       "      <td>HO.PA</td>\n",
       "      <td>0.021796</td>\n",
       "      <td>0.022762</td>\n",
       "    </tr>\n",
       "    <tr>\n",
       "      <th>35</th>\n",
       "      <td>TTE.PA</td>\n",
       "      <td>0.052372</td>\n",
       "      <td>0.050135</td>\n",
       "    </tr>\n",
       "    <tr>\n",
       "      <th>36</th>\n",
       "      <td>UBLB.F</td>\n",
       "      <td>0.004577</td>\n",
       "      <td>0.004474</td>\n",
       "    </tr>\n",
       "    <tr>\n",
       "      <th>37</th>\n",
       "      <td>VIE.PA</td>\n",
       "      <td>0.009919</td>\n",
       "      <td>0.009915</td>\n",
       "    </tr>\n",
       "    <tr>\n",
       "      <th>38</th>\n",
       "      <td>DG.PA</td>\n",
       "      <td>0.027444</td>\n",
       "      <td>0.029340</td>\n",
       "    </tr>\n",
       "    <tr>\n",
       "      <th>39</th>\n",
       "      <td>VIV.PA</td>\n",
       "      <td>0.001100</td>\n",
       "      <td>0.001077</td>\n",
       "    </tr>\n",
       "  </tbody>\n",
       "</table>\n",
       "</div>"
      ],
      "text/plain": [
       "      Symbol  Weights_old  Weights_new\n",
       "0      AC.PA     0.004109     0.004179\n",
       "1      AI.PA     0.041727     0.043741\n",
       "2     AIR.PA     0.052997     0.047099\n",
       "3      MT.AS     0.008017     0.007946\n",
       "4      CS.PA     0.035851     0.037652\n",
       "5     BNP.PA     0.035187     0.035001\n",
       "6      EN.PA     0.005800     0.006162\n",
       "7     CAP.PA     0.009752     0.009370\n",
       "8      CA.PA     0.003673     0.003748\n",
       "9     ACA.PA     0.020767     0.021579\n",
       "10     BN.PA     0.019667     0.020719\n",
       "11    DSY.PA     0.018846     0.018871\n",
       "12   EDEN.PA     0.003087     0.003288\n",
       "13   ENGI.PA     0.019154     0.019874\n",
       "14     EL.PA     0.047480     0.049315\n",
       "15    ERF.PA     0.003789     0.003918\n",
       "16    RMS.PA     0.102136     0.105021\n",
       "17    KER.PA     0.009507     0.008833\n",
       "18     OR.PA     0.077486     0.080009\n",
       "19     LR.PA     0.010187     0.010746\n",
       "20     MC.PA     0.113021     0.106076\n",
       "21     ML.PA     0.009460     0.009442\n",
       "22    ORA.PA     0.013721     0.014641\n",
       "23     RI.PA     0.009456     0.010168\n",
       "24    PUB.PA     0.009037     0.009328\n",
       "25    RNO.PA     0.005508     0.005554\n",
       "26    SAF.PA     0.040872     0.039024\n",
       "27    SGO.PA     0.018916     0.018844\n",
       "28    SAN.PA     0.052335     0.048522\n",
       "29     SU.PA     0.047481     0.050410\n",
       "30    GLE.PA     0.012831     0.013438\n",
       "31  STLAM.MI     0.011589     0.010461\n",
       "32  STMPA.PA     0.007038     0.007016\n",
       "33    TEP.PA     0.002309     0.002301\n",
       "34     HO.PA     0.021796     0.022762\n",
       "35    TTE.PA     0.052372     0.050135\n",
       "36    UBLB.F     0.004577     0.004474\n",
       "37    VIE.PA     0.009919     0.009915\n",
       "38     DG.PA     0.027444     0.029340\n",
       "39    VIV.PA     0.001100     0.001077"
      ]
     },
     "execution_count": 4,
     "metadata": {},
     "output_type": "execute_result"
    }
   ],
   "source": [
    "df_wgts"
   ]
  }
 ],
 "metadata": {
  "kernelspec": {
   "display_name": "idx",
   "language": "python",
   "name": "python3"
  },
  "language_info": {
   "codemirror_mode": {
    "name": "ipython",
    "version": 3
   },
   "file_extension": ".py",
   "mimetype": "text/x-python",
   "name": "python",
   "nbconvert_exporter": "python",
   "pygments_lexer": "ipython3",
   "version": "3.11.11"
  }
 },
 "nbformat": 4,
 "nbformat_minor": 2
}
