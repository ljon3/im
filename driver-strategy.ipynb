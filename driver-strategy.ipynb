{
 "cells": [
  {
   "cell_type": "code",
   "execution_count": null,
   "metadata": {},
   "outputs": [],
   "source": [
    "from strategy.Manager import CapWeight\n",
    "from strategy.Manager import MaxSharpeRatioPortfolio\n",
    "import pandas as pd"
   ]
  },
  {
   "cell_type": "code",
   "execution_count": 39,
   "metadata": {},
   "outputs": [
    {
     "data": {
      "text/plain": [
       "'data/strategy/caps'"
      ]
     },
     "execution_count": 39,
     "metadata": {},
     "output_type": "execute_result"
    }
   ],
   "source": [
    "cw = CapWeight(20250331)\n",
    "cw.path_strategy(\"caps\")"
   ]
  },
  {
   "cell_type": "code",
   "execution_count": 40,
   "metadata": {},
   "outputs": [],
   "source": [
    "[old, new, df_wgts] = cw.calculate_weights()"
   ]
  },
  {
   "cell_type": "code",
   "execution_count": 41,
   "metadata": {},
   "outputs": [
    {
     "data": {
      "application/vnd.microsoft.datawrangler.viewer.v0+json": {
       "columns": [
        {
         "name": "index",
         "rawType": "int64",
         "type": "integer"
        },
        {
         "name": "Symbol",
         "rawType": "object",
         "type": "string"
        },
        {
         "name": "Weights_old",
         "rawType": "float64",
         "type": "float"
        },
        {
         "name": "Weights_new",
         "rawType": "float64",
         "type": "float"
        }
       ],
       "conversionMethod": "pd.DataFrame",
       "ref": "72e47834-f971-421e-86b8-e05c2bb3b2c5",
       "rows": [
        [
         "0",
         "AC.PA",
         "0.004179481475637",
         "0.004162142359883185"
        ],
        [
         "1",
         "AI.PA",
         "0.0437409989180164",
         "0.04355953376549674"
        ],
        [
         "2",
         "AIR.PA",
         "0.0470993226128528",
         "0.04690392502311023"
        ],
        [
         "3",
         "MT.AS",
         "0.0079456678886467",
         "0.007912704264793829"
        ],
        [
         "4",
         "CS.PA",
         "0.0376522876662131",
         "0.037496082314413245"
        ],
        [
         "5",
         "BNP.PA",
         "0.0350007868472394",
         "0.034855581587171"
        ],
        [
         "6",
         "EN.PA",
         "0.0061615336435808",
         "0.006135971729814684"
        ],
        [
         "7",
         "CAP.PA",
         "0.0093697638724829",
         "0.009330892203516749"
        ],
        [
         "8",
         "CA.PA",
         "0.0037475347357523",
         "0.003731987606532186"
        ],
        [
         "9",
         "ACA.PA",
         "0.0215791040349673",
         "0.021489580350053716"
        ],
        [
         "10",
         "BN.PA",
         "0.0207194398984278",
         "0.02063348264060803"
        ],
        [
         "11",
         "DSY.PA",
         "0.0188707024243106",
         "0.018792414891371623"
        ],
        [
         "12",
         "EDEN.PA",
         "0.0032883414983428",
         "0.0032746993912512626"
        ],
        [
         "13",
         "ENGI.PA",
         "0.0198743840183644",
         "0.019791932583410034"
        ],
        [
         "14",
         "EL.PA",
         "0.0493151593643335",
         "0.04911056909120429"
        ],
        [
         "15",
         "ERF.PA",
         "0.0039184728218913",
         "0.003902216534063988"
        ],
        [
         "16",
         "RMS.PA",
         "0.1050208837104556",
         "0.10458519108450554"
        ],
        [
         "17",
         "KER.PA",
         "0.0088326942476609",
         "0.008796050681019598"
        ],
        [
         "18",
         "OR.PA",
         "0.0800088214617507",
         "0.07967689458882563"
        ],
        [
         "19",
         "LR.PA",
         "0.0107461623379835",
         "0.010701580503185535"
        ],
        [
         "20",
         "MC.PA",
         "0.1060761014822322",
         "0.10563603114981375"
        ],
        [
         "21",
         "ML.PA",
         "0.0094422444719663",
         "0.009403072107923054"
        ],
        [
         "22",
         "ORA.PA",
         "0.0146414614629153",
         "0.01458071947934837"
        ],
        [
         "23",
         "RI.PA",
         "0.0101679619129175",
         "0.010125778816852445"
        ],
        [
         "24",
         "PUB.PA",
         "0.0093275188831857",
         "0.009288822472983953"
        ],
        [
         "25",
         "RNO.PA",
         "0.0055535134107652",
         "0.005530473947034812"
        ],
        [
         "26",
         "SAF.PA",
         "0.0390238669500758",
         "0.03886197142543829"
        ],
        [
         "27",
         "SGO.PA",
         "0.01884414489393",
         "0.01876596753831705"
        ],
        [
         "28",
         "SAN.PA",
         "0.0485215912189906",
         "0.04832029316524579"
        ],
        [
         "29",
         "SU.PA",
         "0.0504100178654865",
         "0.0502008854312313"
        ],
        [
         "30",
         "GLE.PA",
         "0.0134380502674063",
         "0.013382300789761546"
        ],
        [
         "31",
         "STLAM.MI",
         "0.0104612152158064",
         "0.010417815520746127"
        ],
        [
         "32",
         "STMPA.PA",
         "0.0070162399976704",
         "0.006987132224807726"
        ],
        [
         "33",
         "TEP.PA",
         "0.0023006519261554",
         "0.0022911073761222992"
        ],
        [
         "34",
         "HO.PA",
         "0.0227623835746435",
         "0.02266795090256793"
        ],
        [
         "35",
         "TTE.PA",
         "0.0501350625610834",
         "0.04992707081422636"
        ],
        [
         "36",
         "UBLB.F",
         "0.0044740750349234",
         "0.004455513759948448"
        ],
        [
         "37",
         "VIE.PA",
         "0.0099151890181118",
         "0.009874054582869404"
        ],
        [
         "38",
         "DG.PA",
         "0.0293397142722121",
         "0.02921799469888296"
        ]
       ],
       "shape": {
        "columns": 3,
        "rows": 39
       }
      },
      "text/html": [
       "<div>\n",
       "<style scoped>\n",
       "    .dataframe tbody tr th:only-of-type {\n",
       "        vertical-align: middle;\n",
       "    }\n",
       "\n",
       "    .dataframe tbody tr th {\n",
       "        vertical-align: top;\n",
       "    }\n",
       "\n",
       "    .dataframe thead th {\n",
       "        text-align: right;\n",
       "    }\n",
       "</style>\n",
       "<table border=\"1\" class=\"dataframe\">\n",
       "  <thead>\n",
       "    <tr style=\"text-align: right;\">\n",
       "      <th></th>\n",
       "      <th>Symbol</th>\n",
       "      <th>Weights_old</th>\n",
       "      <th>Weights_new</th>\n",
       "    </tr>\n",
       "  </thead>\n",
       "  <tbody>\n",
       "    <tr>\n",
       "      <th>0</th>\n",
       "      <td>AC.PA</td>\n",
       "      <td>0.004179</td>\n",
       "      <td>0.004162</td>\n",
       "    </tr>\n",
       "    <tr>\n",
       "      <th>1</th>\n",
       "      <td>AI.PA</td>\n",
       "      <td>0.043741</td>\n",
       "      <td>0.043560</td>\n",
       "    </tr>\n",
       "    <tr>\n",
       "      <th>2</th>\n",
       "      <td>AIR.PA</td>\n",
       "      <td>0.047099</td>\n",
       "      <td>0.046904</td>\n",
       "    </tr>\n",
       "    <tr>\n",
       "      <th>3</th>\n",
       "      <td>MT.AS</td>\n",
       "      <td>0.007946</td>\n",
       "      <td>0.007913</td>\n",
       "    </tr>\n",
       "    <tr>\n",
       "      <th>4</th>\n",
       "      <td>CS.PA</td>\n",
       "      <td>0.037652</td>\n",
       "      <td>0.037496</td>\n",
       "    </tr>\n",
       "    <tr>\n",
       "      <th>5</th>\n",
       "      <td>BNP.PA</td>\n",
       "      <td>0.035001</td>\n",
       "      <td>0.034856</td>\n",
       "    </tr>\n",
       "    <tr>\n",
       "      <th>6</th>\n",
       "      <td>EN.PA</td>\n",
       "      <td>0.006162</td>\n",
       "      <td>0.006136</td>\n",
       "    </tr>\n",
       "    <tr>\n",
       "      <th>7</th>\n",
       "      <td>CAP.PA</td>\n",
       "      <td>0.009370</td>\n",
       "      <td>0.009331</td>\n",
       "    </tr>\n",
       "    <tr>\n",
       "      <th>8</th>\n",
       "      <td>CA.PA</td>\n",
       "      <td>0.003748</td>\n",
       "      <td>0.003732</td>\n",
       "    </tr>\n",
       "    <tr>\n",
       "      <th>9</th>\n",
       "      <td>ACA.PA</td>\n",
       "      <td>0.021579</td>\n",
       "      <td>0.021490</td>\n",
       "    </tr>\n",
       "    <tr>\n",
       "      <th>10</th>\n",
       "      <td>BN.PA</td>\n",
       "      <td>0.020719</td>\n",
       "      <td>0.020633</td>\n",
       "    </tr>\n",
       "    <tr>\n",
       "      <th>11</th>\n",
       "      <td>DSY.PA</td>\n",
       "      <td>0.018871</td>\n",
       "      <td>0.018792</td>\n",
       "    </tr>\n",
       "    <tr>\n",
       "      <th>12</th>\n",
       "      <td>EDEN.PA</td>\n",
       "      <td>0.003288</td>\n",
       "      <td>0.003275</td>\n",
       "    </tr>\n",
       "    <tr>\n",
       "      <th>13</th>\n",
       "      <td>ENGI.PA</td>\n",
       "      <td>0.019874</td>\n",
       "      <td>0.019792</td>\n",
       "    </tr>\n",
       "    <tr>\n",
       "      <th>14</th>\n",
       "      <td>EL.PA</td>\n",
       "      <td>0.049315</td>\n",
       "      <td>0.049111</td>\n",
       "    </tr>\n",
       "    <tr>\n",
       "      <th>15</th>\n",
       "      <td>ERF.PA</td>\n",
       "      <td>0.003918</td>\n",
       "      <td>0.003902</td>\n",
       "    </tr>\n",
       "    <tr>\n",
       "      <th>16</th>\n",
       "      <td>RMS.PA</td>\n",
       "      <td>0.105021</td>\n",
       "      <td>0.104585</td>\n",
       "    </tr>\n",
       "    <tr>\n",
       "      <th>17</th>\n",
       "      <td>KER.PA</td>\n",
       "      <td>0.008833</td>\n",
       "      <td>0.008796</td>\n",
       "    </tr>\n",
       "    <tr>\n",
       "      <th>18</th>\n",
       "      <td>OR.PA</td>\n",
       "      <td>0.080009</td>\n",
       "      <td>0.079677</td>\n",
       "    </tr>\n",
       "    <tr>\n",
       "      <th>19</th>\n",
       "      <td>LR.PA</td>\n",
       "      <td>0.010746</td>\n",
       "      <td>0.010702</td>\n",
       "    </tr>\n",
       "    <tr>\n",
       "      <th>20</th>\n",
       "      <td>MC.PA</td>\n",
       "      <td>0.106076</td>\n",
       "      <td>0.105636</td>\n",
       "    </tr>\n",
       "    <tr>\n",
       "      <th>21</th>\n",
       "      <td>ML.PA</td>\n",
       "      <td>0.009442</td>\n",
       "      <td>0.009403</td>\n",
       "    </tr>\n",
       "    <tr>\n",
       "      <th>22</th>\n",
       "      <td>ORA.PA</td>\n",
       "      <td>0.014641</td>\n",
       "      <td>0.014581</td>\n",
       "    </tr>\n",
       "    <tr>\n",
       "      <th>23</th>\n",
       "      <td>RI.PA</td>\n",
       "      <td>0.010168</td>\n",
       "      <td>0.010126</td>\n",
       "    </tr>\n",
       "    <tr>\n",
       "      <th>24</th>\n",
       "      <td>PUB.PA</td>\n",
       "      <td>0.009328</td>\n",
       "      <td>0.009289</td>\n",
       "    </tr>\n",
       "    <tr>\n",
       "      <th>25</th>\n",
       "      <td>RNO.PA</td>\n",
       "      <td>0.005554</td>\n",
       "      <td>0.005530</td>\n",
       "    </tr>\n",
       "    <tr>\n",
       "      <th>26</th>\n",
       "      <td>SAF.PA</td>\n",
       "      <td>0.039024</td>\n",
       "      <td>0.038862</td>\n",
       "    </tr>\n",
       "    <tr>\n",
       "      <th>27</th>\n",
       "      <td>SGO.PA</td>\n",
       "      <td>0.018844</td>\n",
       "      <td>0.018766</td>\n",
       "    </tr>\n",
       "    <tr>\n",
       "      <th>28</th>\n",
       "      <td>SAN.PA</td>\n",
       "      <td>0.048522</td>\n",
       "      <td>0.048320</td>\n",
       "    </tr>\n",
       "    <tr>\n",
       "      <th>29</th>\n",
       "      <td>SU.PA</td>\n",
       "      <td>0.050410</td>\n",
       "      <td>0.050201</td>\n",
       "    </tr>\n",
       "    <tr>\n",
       "      <th>30</th>\n",
       "      <td>GLE.PA</td>\n",
       "      <td>0.013438</td>\n",
       "      <td>0.013382</td>\n",
       "    </tr>\n",
       "    <tr>\n",
       "      <th>31</th>\n",
       "      <td>STLAM.MI</td>\n",
       "      <td>0.010461</td>\n",
       "      <td>0.010418</td>\n",
       "    </tr>\n",
       "    <tr>\n",
       "      <th>32</th>\n",
       "      <td>STMPA.PA</td>\n",
       "      <td>0.007016</td>\n",
       "      <td>0.006987</td>\n",
       "    </tr>\n",
       "    <tr>\n",
       "      <th>33</th>\n",
       "      <td>TEP.PA</td>\n",
       "      <td>0.002301</td>\n",
       "      <td>0.002291</td>\n",
       "    </tr>\n",
       "    <tr>\n",
       "      <th>34</th>\n",
       "      <td>HO.PA</td>\n",
       "      <td>0.022762</td>\n",
       "      <td>0.022668</td>\n",
       "    </tr>\n",
       "    <tr>\n",
       "      <th>35</th>\n",
       "      <td>TTE.PA</td>\n",
       "      <td>0.050135</td>\n",
       "      <td>0.049927</td>\n",
       "    </tr>\n",
       "    <tr>\n",
       "      <th>36</th>\n",
       "      <td>UBLB.F</td>\n",
       "      <td>0.004474</td>\n",
       "      <td>0.004456</td>\n",
       "    </tr>\n",
       "    <tr>\n",
       "      <th>37</th>\n",
       "      <td>VIE.PA</td>\n",
       "      <td>0.009915</td>\n",
       "      <td>0.009874</td>\n",
       "    </tr>\n",
       "    <tr>\n",
       "      <th>38</th>\n",
       "      <td>DG.PA</td>\n",
       "      <td>0.029340</td>\n",
       "      <td>0.029218</td>\n",
       "    </tr>\n",
       "  </tbody>\n",
       "</table>\n",
       "</div>"
      ],
      "text/plain": [
       "      Symbol  Weights_old  Weights_new\n",
       "0      AC.PA     0.004179     0.004162\n",
       "1      AI.PA     0.043741     0.043560\n",
       "2     AIR.PA     0.047099     0.046904\n",
       "3      MT.AS     0.007946     0.007913\n",
       "4      CS.PA     0.037652     0.037496\n",
       "5     BNP.PA     0.035001     0.034856\n",
       "6      EN.PA     0.006162     0.006136\n",
       "7     CAP.PA     0.009370     0.009331\n",
       "8      CA.PA     0.003748     0.003732\n",
       "9     ACA.PA     0.021579     0.021490\n",
       "10     BN.PA     0.020719     0.020633\n",
       "11    DSY.PA     0.018871     0.018792\n",
       "12   EDEN.PA     0.003288     0.003275\n",
       "13   ENGI.PA     0.019874     0.019792\n",
       "14     EL.PA     0.049315     0.049111\n",
       "15    ERF.PA     0.003918     0.003902\n",
       "16    RMS.PA     0.105021     0.104585\n",
       "17    KER.PA     0.008833     0.008796\n",
       "18     OR.PA     0.080009     0.079677\n",
       "19     LR.PA     0.010746     0.010702\n",
       "20     MC.PA     0.106076     0.105636\n",
       "21     ML.PA     0.009442     0.009403\n",
       "22    ORA.PA     0.014641     0.014581\n",
       "23     RI.PA     0.010168     0.010126\n",
       "24    PUB.PA     0.009328     0.009289\n",
       "25    RNO.PA     0.005554     0.005530\n",
       "26    SAF.PA     0.039024     0.038862\n",
       "27    SGO.PA     0.018844     0.018766\n",
       "28    SAN.PA     0.048522     0.048320\n",
       "29     SU.PA     0.050410     0.050201\n",
       "30    GLE.PA     0.013438     0.013382\n",
       "31  STLAM.MI     0.010461     0.010418\n",
       "32  STMPA.PA     0.007016     0.006987\n",
       "33    TEP.PA     0.002301     0.002291\n",
       "34     HO.PA     0.022762     0.022668\n",
       "35    TTE.PA     0.050135     0.049927\n",
       "36    UBLB.F     0.004474     0.004456\n",
       "37    VIE.PA     0.009915     0.009874\n",
       "38     DG.PA     0.029340     0.029218"
      ]
     },
     "execution_count": 41,
     "metadata": {},
     "output_type": "execute_result"
    }
   ],
   "source": [
    "df_wgts"
   ]
  },
  {
   "cell_type": "code",
   "execution_count": 49,
   "metadata": {},
   "outputs": [
    {
     "data": {
      "application/vnd.microsoft.datawrangler.viewer.v0+json": {
       "columns": [
        {
         "name": "index",
         "rawType": "int64",
         "type": "integer"
        },
        {
         "name": "Asset",
         "rawType": "object",
         "type": "string"
        },
        {
         "name": "Weight_Sample",
         "rawType": "float64",
         "type": "float"
        },
        {
         "name": "Weight_LW",
         "rawType": "float64",
         "type": "float"
        }
       ],
       "conversionMethod": "pd.DataFrame",
       "ref": "ac573be7-c2e9-41dd-ab57-128b2c1f90f5",
       "rows": [
        [
         "0",
         "AC.PA",
         "0.0",
         "0.0"
        ],
        [
         "1",
         "ACA.PA",
         "0.0",
         "0.04799281803459095"
        ],
        [
         "2",
         "AI.PA",
         "0.0",
         "0.024826556012901"
        ],
        [
         "3",
         "AIR.PA",
         "7.355771504999263e-06",
         "0.022327198662551014"
        ],
        [
         "4",
         "BN.PA",
         "0.0",
         "0.04118318417378259"
        ],
        [
         "5",
         "BNP.PA",
         "2.7907849031030665e-06",
         "0.05132567808122972"
        ],
        [
         "6",
         "BVI.PA",
         "0.0",
         "0.014890157467608908"
        ],
        [
         "7",
         "CA.PA",
         "5.8555721511734105e-05",
         "0.04451774420286129"
        ],
        [
         "8",
         "CAP.PA",
         "0.054888665733811196",
         "0.0018137648140398924"
        ],
        [
         "9",
         "CS.PA",
         "1.4866612811482608e-06",
         "0.05170018236148186"
        ],
        [
         "10",
         "DG.PA",
         "0.0",
         "0.04799667696472484"
        ],
        [
         "11",
         "DSY.PA",
         "1.9191831414082647e-05",
         "0.0"
        ],
        [
         "12",
         "EDEN.PA",
         "6.3063227322484966e-06",
         "0.021066748188705256"
        ],
        [
         "13",
         "EL.PA",
         "8.60029365379109e-06",
         "0.0"
        ],
        [
         "14",
         "EN.PA",
         "0.0",
         "0.07179529977039517"
        ],
        [
         "15",
         "ENGI.PA",
         "0.0",
         "0.04711539256532593"
        ],
        [
         "16",
         "ERF.PA",
         "7.915289463383858e-06",
         "0.03930552319640468"
        ],
        [
         "17",
         "GLE.PA",
         "0.0006294059054120713",
         "0.046877059045830755"
        ],
        [
         "18",
         "HO.PA",
         "0.6270669907903841",
         "0.14624846549244233"
        ],
        [
         "19",
         "KER.PA",
         "0.0",
         "0.0"
        ],
        [
         "20",
         "LR.PA",
         "0.0",
         "0.0"
        ],
        [
         "21",
         "MC.PA",
         "1.1711376962490186e-05",
         "0.0"
        ],
        [
         "22",
         "ML.PA",
         "0.0",
         "0.00686907705295537"
        ],
        [
         "23",
         "MT.AS",
         "0.0",
         "0.010959090587272626"
        ],
        [
         "24",
         "OR.PA",
         "0.0",
         "0.017334728524409836"
        ],
        [
         "25",
         "ORA.PA",
         "0.0",
         "0.043667757211112025"
        ],
        [
         "26",
         "PUB.PA",
         "0.0",
         "0.0"
        ],
        [
         "27",
         "RI.PA",
         "0.0",
         "0.0"
        ],
        [
         "28",
         "RMS.PA",
         "0.317783811288087",
         "0.0"
        ],
        [
         "29",
         "RNO.PA",
         "0.0",
         "0.00120684008327138"
        ],
        [
         "30",
         "SAF.PA",
         "1.6224382315734927e-05",
         "0.01518788167981629"
        ],
        [
         "31",
         "SAN.PA",
         "1.6962031164210198e-05",
         "0.019985128781698967"
        ],
        [
         "32",
         "SGO.PA",
         "0.0",
         "0.005374577185266293"
        ],
        [
         "33",
         "STLAM.MI",
         "0.0",
         "0.0"
        ],
        [
         "34",
         "STMPA.PA",
         "0.0",
         "0.0"
        ],
        [
         "35",
         "SU.PA",
         "0.0",
         "0.0"
        ],
        [
         "36",
         "TEP.PA",
         "6.963044210508827e-06",
         "0.02842266874361791"
        ],
        [
         "37",
         "TTE.PA",
         "2.338343165900219e-06",
         "0.04911621151016039"
        ],
        [
         "38",
         "UBLB.F",
         "1.4607284588811451e-05",
         "0.007986342345986077"
        ],
        [
         "39",
         "VIE.PA",
         "0.0",
         "0.07291102356171332"
        ]
       ],
       "shape": {
        "columns": 3,
        "rows": 40
       }
      },
      "text/html": [
       "<div>\n",
       "<style scoped>\n",
       "    .dataframe tbody tr th:only-of-type {\n",
       "        vertical-align: middle;\n",
       "    }\n",
       "\n",
       "    .dataframe tbody tr th {\n",
       "        vertical-align: top;\n",
       "    }\n",
       "\n",
       "    .dataframe thead th {\n",
       "        text-align: right;\n",
       "    }\n",
       "</style>\n",
       "<table border=\"1\" class=\"dataframe\">\n",
       "  <thead>\n",
       "    <tr style=\"text-align: right;\">\n",
       "      <th></th>\n",
       "      <th>Asset</th>\n",
       "      <th>Weight_Sample</th>\n",
       "      <th>Weight_LW</th>\n",
       "    </tr>\n",
       "  </thead>\n",
       "  <tbody>\n",
       "    <tr>\n",
       "      <th>0</th>\n",
       "      <td>AC.PA</td>\n",
       "      <td>0.000000</td>\n",
       "      <td>0.000000</td>\n",
       "    </tr>\n",
       "    <tr>\n",
       "      <th>1</th>\n",
       "      <td>ACA.PA</td>\n",
       "      <td>0.000000</td>\n",
       "      <td>0.047993</td>\n",
       "    </tr>\n",
       "    <tr>\n",
       "      <th>2</th>\n",
       "      <td>AI.PA</td>\n",
       "      <td>0.000000</td>\n",
       "      <td>0.024827</td>\n",
       "    </tr>\n",
       "    <tr>\n",
       "      <th>3</th>\n",
       "      <td>AIR.PA</td>\n",
       "      <td>0.000007</td>\n",
       "      <td>0.022327</td>\n",
       "    </tr>\n",
       "    <tr>\n",
       "      <th>4</th>\n",
       "      <td>BN.PA</td>\n",
       "      <td>0.000000</td>\n",
       "      <td>0.041183</td>\n",
       "    </tr>\n",
       "    <tr>\n",
       "      <th>5</th>\n",
       "      <td>BNP.PA</td>\n",
       "      <td>0.000003</td>\n",
       "      <td>0.051326</td>\n",
       "    </tr>\n",
       "    <tr>\n",
       "      <th>6</th>\n",
       "      <td>BVI.PA</td>\n",
       "      <td>0.000000</td>\n",
       "      <td>0.014890</td>\n",
       "    </tr>\n",
       "    <tr>\n",
       "      <th>7</th>\n",
       "      <td>CA.PA</td>\n",
       "      <td>0.000059</td>\n",
       "      <td>0.044518</td>\n",
       "    </tr>\n",
       "    <tr>\n",
       "      <th>8</th>\n",
       "      <td>CAP.PA</td>\n",
       "      <td>0.054889</td>\n",
       "      <td>0.001814</td>\n",
       "    </tr>\n",
       "    <tr>\n",
       "      <th>9</th>\n",
       "      <td>CS.PA</td>\n",
       "      <td>0.000001</td>\n",
       "      <td>0.051700</td>\n",
       "    </tr>\n",
       "    <tr>\n",
       "      <th>10</th>\n",
       "      <td>DG.PA</td>\n",
       "      <td>0.000000</td>\n",
       "      <td>0.047997</td>\n",
       "    </tr>\n",
       "    <tr>\n",
       "      <th>11</th>\n",
       "      <td>DSY.PA</td>\n",
       "      <td>0.000019</td>\n",
       "      <td>0.000000</td>\n",
       "    </tr>\n",
       "    <tr>\n",
       "      <th>12</th>\n",
       "      <td>EDEN.PA</td>\n",
       "      <td>0.000006</td>\n",
       "      <td>0.021067</td>\n",
       "    </tr>\n",
       "    <tr>\n",
       "      <th>13</th>\n",
       "      <td>EL.PA</td>\n",
       "      <td>0.000009</td>\n",
       "      <td>0.000000</td>\n",
       "    </tr>\n",
       "    <tr>\n",
       "      <th>14</th>\n",
       "      <td>EN.PA</td>\n",
       "      <td>0.000000</td>\n",
       "      <td>0.071795</td>\n",
       "    </tr>\n",
       "    <tr>\n",
       "      <th>15</th>\n",
       "      <td>ENGI.PA</td>\n",
       "      <td>0.000000</td>\n",
       "      <td>0.047115</td>\n",
       "    </tr>\n",
       "    <tr>\n",
       "      <th>16</th>\n",
       "      <td>ERF.PA</td>\n",
       "      <td>0.000008</td>\n",
       "      <td>0.039306</td>\n",
       "    </tr>\n",
       "    <tr>\n",
       "      <th>17</th>\n",
       "      <td>GLE.PA</td>\n",
       "      <td>0.000629</td>\n",
       "      <td>0.046877</td>\n",
       "    </tr>\n",
       "    <tr>\n",
       "      <th>18</th>\n",
       "      <td>HO.PA</td>\n",
       "      <td>0.627067</td>\n",
       "      <td>0.146248</td>\n",
       "    </tr>\n",
       "    <tr>\n",
       "      <th>19</th>\n",
       "      <td>KER.PA</td>\n",
       "      <td>0.000000</td>\n",
       "      <td>0.000000</td>\n",
       "    </tr>\n",
       "    <tr>\n",
       "      <th>20</th>\n",
       "      <td>LR.PA</td>\n",
       "      <td>0.000000</td>\n",
       "      <td>0.000000</td>\n",
       "    </tr>\n",
       "    <tr>\n",
       "      <th>21</th>\n",
       "      <td>MC.PA</td>\n",
       "      <td>0.000012</td>\n",
       "      <td>0.000000</td>\n",
       "    </tr>\n",
       "    <tr>\n",
       "      <th>22</th>\n",
       "      <td>ML.PA</td>\n",
       "      <td>0.000000</td>\n",
       "      <td>0.006869</td>\n",
       "    </tr>\n",
       "    <tr>\n",
       "      <th>23</th>\n",
       "      <td>MT.AS</td>\n",
       "      <td>0.000000</td>\n",
       "      <td>0.010959</td>\n",
       "    </tr>\n",
       "    <tr>\n",
       "      <th>24</th>\n",
       "      <td>OR.PA</td>\n",
       "      <td>0.000000</td>\n",
       "      <td>0.017335</td>\n",
       "    </tr>\n",
       "    <tr>\n",
       "      <th>25</th>\n",
       "      <td>ORA.PA</td>\n",
       "      <td>0.000000</td>\n",
       "      <td>0.043668</td>\n",
       "    </tr>\n",
       "    <tr>\n",
       "      <th>26</th>\n",
       "      <td>PUB.PA</td>\n",
       "      <td>0.000000</td>\n",
       "      <td>0.000000</td>\n",
       "    </tr>\n",
       "    <tr>\n",
       "      <th>27</th>\n",
       "      <td>RI.PA</td>\n",
       "      <td>0.000000</td>\n",
       "      <td>0.000000</td>\n",
       "    </tr>\n",
       "    <tr>\n",
       "      <th>28</th>\n",
       "      <td>RMS.PA</td>\n",
       "      <td>0.317784</td>\n",
       "      <td>0.000000</td>\n",
       "    </tr>\n",
       "    <tr>\n",
       "      <th>29</th>\n",
       "      <td>RNO.PA</td>\n",
       "      <td>0.000000</td>\n",
       "      <td>0.001207</td>\n",
       "    </tr>\n",
       "    <tr>\n",
       "      <th>30</th>\n",
       "      <td>SAF.PA</td>\n",
       "      <td>0.000016</td>\n",
       "      <td>0.015188</td>\n",
       "    </tr>\n",
       "    <tr>\n",
       "      <th>31</th>\n",
       "      <td>SAN.PA</td>\n",
       "      <td>0.000017</td>\n",
       "      <td>0.019985</td>\n",
       "    </tr>\n",
       "    <tr>\n",
       "      <th>32</th>\n",
       "      <td>SGO.PA</td>\n",
       "      <td>0.000000</td>\n",
       "      <td>0.005375</td>\n",
       "    </tr>\n",
       "    <tr>\n",
       "      <th>33</th>\n",
       "      <td>STLAM.MI</td>\n",
       "      <td>0.000000</td>\n",
       "      <td>0.000000</td>\n",
       "    </tr>\n",
       "    <tr>\n",
       "      <th>34</th>\n",
       "      <td>STMPA.PA</td>\n",
       "      <td>0.000000</td>\n",
       "      <td>0.000000</td>\n",
       "    </tr>\n",
       "    <tr>\n",
       "      <th>35</th>\n",
       "      <td>SU.PA</td>\n",
       "      <td>0.000000</td>\n",
       "      <td>0.000000</td>\n",
       "    </tr>\n",
       "    <tr>\n",
       "      <th>36</th>\n",
       "      <td>TEP.PA</td>\n",
       "      <td>0.000007</td>\n",
       "      <td>0.028423</td>\n",
       "    </tr>\n",
       "    <tr>\n",
       "      <th>37</th>\n",
       "      <td>TTE.PA</td>\n",
       "      <td>0.000002</td>\n",
       "      <td>0.049116</td>\n",
       "    </tr>\n",
       "    <tr>\n",
       "      <th>38</th>\n",
       "      <td>UBLB.F</td>\n",
       "      <td>0.000015</td>\n",
       "      <td>0.007986</td>\n",
       "    </tr>\n",
       "    <tr>\n",
       "      <th>39</th>\n",
       "      <td>VIE.PA</td>\n",
       "      <td>0.000000</td>\n",
       "      <td>0.072911</td>\n",
       "    </tr>\n",
       "  </tbody>\n",
       "</table>\n",
       "</div>"
      ],
      "text/plain": [
       "       Asset  Weight_Sample  Weight_LW\n",
       "0      AC.PA       0.000000   0.000000\n",
       "1     ACA.PA       0.000000   0.047993\n",
       "2      AI.PA       0.000000   0.024827\n",
       "3     AIR.PA       0.000007   0.022327\n",
       "4      BN.PA       0.000000   0.041183\n",
       "5     BNP.PA       0.000003   0.051326\n",
       "6     BVI.PA       0.000000   0.014890\n",
       "7      CA.PA       0.000059   0.044518\n",
       "8     CAP.PA       0.054889   0.001814\n",
       "9      CS.PA       0.000001   0.051700\n",
       "10     DG.PA       0.000000   0.047997\n",
       "11    DSY.PA       0.000019   0.000000\n",
       "12   EDEN.PA       0.000006   0.021067\n",
       "13     EL.PA       0.000009   0.000000\n",
       "14     EN.PA       0.000000   0.071795\n",
       "15   ENGI.PA       0.000000   0.047115\n",
       "16    ERF.PA       0.000008   0.039306\n",
       "17    GLE.PA       0.000629   0.046877\n",
       "18     HO.PA       0.627067   0.146248\n",
       "19    KER.PA       0.000000   0.000000\n",
       "20     LR.PA       0.000000   0.000000\n",
       "21     MC.PA       0.000012   0.000000\n",
       "22     ML.PA       0.000000   0.006869\n",
       "23     MT.AS       0.000000   0.010959\n",
       "24     OR.PA       0.000000   0.017335\n",
       "25    ORA.PA       0.000000   0.043668\n",
       "26    PUB.PA       0.000000   0.000000\n",
       "27     RI.PA       0.000000   0.000000\n",
       "28    RMS.PA       0.317784   0.000000\n",
       "29    RNO.PA       0.000000   0.001207\n",
       "30    SAF.PA       0.000016   0.015188\n",
       "31    SAN.PA       0.000017   0.019985\n",
       "32    SGO.PA       0.000000   0.005375\n",
       "33  STLAM.MI       0.000000   0.000000\n",
       "34  STMPA.PA       0.000000   0.000000\n",
       "35     SU.PA       0.000000   0.000000\n",
       "36    TEP.PA       0.000007   0.028423\n",
       "37    TTE.PA       0.000002   0.049116\n",
       "38    UBLB.F       0.000015   0.007986\n",
       "39    VIE.PA       0.000000   0.072911"
      ]
     },
     "execution_count": 49,
     "metadata": {},
     "output_type": "execute_result"
    }
   ],
   "source": [
    "msr = MaxSharpeRatioPortfolio(20250331)\n",
    "[prior, df_weights] = msr.calculate_weights()\n",
    "df_weights"
   ]
  },
  {
   "cell_type": "code",
   "execution_count": 50,
   "metadata": {},
   "outputs": [
    {
     "data": {
      "image/png": "[encoded data removed]",
      "text/plain": [
       "<Figure size 1200x600 with 4 Axes>"
      ]
     },
     "metadata": {},
     "output_type": "display_data"
    }
   ],
   "source": [
    "import seaborn as sns\n",
    "import matplotlib.pyplot as plt\n",
    "\n",
    "plt.figure(figsize=(12, 6))\n",
    "plt.subplot(1, 2, 1)\n",
    "sns.heatmap(msr.df_sample_cov_matrix, annot=False, cmap=\"coolwarm\", cbar=True)\n",
    "plt.title(\"Sample Covariance Matrix\")\n",
    "\n",
    "# Plot the Ledoit-Wolf shrunk covariance matrix\n",
    "plt.subplot(1, 2, 2)\n",
    "sns.heatmap(msr.df_LedoitWolf_cov_matrix, annot=False, cmap=\"coolwarm\", cbar=True)\n",
    "plt.title(\"Ledoit-Wolf Shrunk Covariance Matrix\")\n",
    "\n",
    "plt.tight_layout()\n",
    "plt.show()"
   ]
  },
  {
   "cell_type": "code",
   "execution_count": 51,
   "metadata": {},
   "outputs": [
    {
     "data": {
      "image/png": "[encoded data removed]",
      "text/plain": [
       "<Figure size 1200x600 with 1 Axes>"
      ]
     },
     "metadata": {},
     "output_type": "display_data"
    }
   ],
   "source": [
    "[prior, df_weights] = msr.calculate_weights()\n",
    "df_weights\n",
    "\n",
    "import matplotlib.pyplot as plt\n",
    "\n",
    "# Set the index to 'Asset' for easier plotting\n",
    "df_weights.set_index('Asset', inplace=True)\n",
    "\n",
    "# Plot the weights\n",
    "df_weights.plot(kind='bar', figsize=(12, 6))\n",
    "\n",
    "# Add labels and title\n",
    "plt.title('Portfolio Weights Comparison - Sample vs Ledoit Wolf Shrunk Covariance', fontsize=16)\n",
    "plt.ylabel('Weight', fontsize=12)\n",
    "plt.xlabel('Asset', fontsize=12)\n",
    "plt.xticks(rotation=45)\n",
    "plt.legend(['Sample Covariance', 'Ledoit-Wolf Covariance'], fontsize=12)\n",
    "\n",
    "# Show the plot\n",
    "plt.tight_layout()\n",
    "\n",
    "plt.show()"
   ]
  },
  {
   "cell_type": "code",
   "execution_count": 52,
   "metadata": {},
   "outputs": [
    {
     "data": {
      "text/plain": [
       "array([1.00054988, 1.00000378])"
      ]
     },
     "execution_count": 52,
     "metadata": {},
     "output_type": "execute_result"
    }
   ],
   "source": [
    "# sanity check\n",
    "sum(df_weights.loc[:,[\"Weight_Sample\",\"Weight_LW\"]].values)"
   ]
  }
 ],
 "metadata": {
  "kernelspec": {
   "display_name": "idx",
   "language": "python",
   "name": "python3"
  },
  "language_info": {
   "codemirror_mode": {
    "name": "ipython",
    "version": 3
   },
   "file_extension": ".py",
   "mimetype": "text/x-python",
   "name": "python",
   "nbconvert_exporter": "python",
   "pygments_lexer": "ipython3",
   "version": "3.11.11"
  }
 },
 "nbformat": 4,
 "nbformat_minor": 2
}
