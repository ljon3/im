{
 "cells": [
  {
   "cell_type": "code",
   "execution_count": 1,
   "metadata": {},
   "outputs": [],
   "source": [
    "from strategy.Manager import CapWeight\n",
    "from strategy.Manager import MaxSharpeRatioPortfolio\n",
    "import pandas as pd"
   ]
  },
  {
   "cell_type": "code",
   "execution_count": 2,
   "metadata": {},
   "outputs": [
    {
     "data": {
      "text/plain": [
       "'data/strategy/caps'"
      ]
     },
     "execution_count": 2,
     "metadata": {},
     "output_type": "execute_result"
    }
   ],
   "source": [
    "cw = CapWeight(20250331)\n",
    "cw.path_strategy(\"caps\")"
   ]
  },
  {
   "cell_type": "code",
   "execution_count": 3,
   "metadata": {},
   "outputs": [
    {
     "data": {
      "application/vnd.microsoft.datawrangler.viewer.v0+json": {
       "columns": [
        {
         "name": "index",
         "rawType": "int64",
         "type": "integer"
        },
        {
         "name": "Symbol",
         "rawType": "object",
         "type": "string"
        },
        {
         "name": "Weights_old",
         "rawType": "float64",
         "type": "float"
        },
        {
         "name": "Weights_new",
         "rawType": "float64",
         "type": "float"
        }
       ],
       "conversionMethod": "pd.DataFrame",
       "ref": "8acfa753-eb6a-4dfd-8e1f-71fd8e086f73",
       "rows": [
        [
         "0",
         "AC.PA",
         "0.004179481475637",
         "0.00421718131278801"
        ],
        [
         "1",
         "AI.PA",
         "0.0437409989180164",
         "0.043642378057072724"
        ],
        [
         "2",
         "AIR.PA",
         "0.0470993226128528",
         "0.04650055492441234"
        ],
        [
         "3",
         "MT.AS",
         "0.0079456678886467",
         "0.008246014528565068"
        ],
        [
         "4",
         "CS.PA",
         "0.0376522876662131",
         "0.0376019540315558"
        ],
        [
         "5",
         "BNP.PA",
         "0.0350007868472394",
         "0.03472247096073535"
        ],
        [
         "6",
         "EN.PA",
         "0.0061615336435808",
         "0.006051225669522421"
        ],
        [
         "7",
         "CAP.PA",
         "0.0093697638724829",
         "0.009574766157284585"
        ],
        [
         "8",
         "CA.PA",
         "0.0037475347357523",
         "0.0037842042020828654"
        ],
        [
         "9",
         "ACA.PA",
         "0.0215791040349673",
         "0.021611983849951936"
        ],
        [
         "10",
         "BN.PA",
         "0.0207194398984278",
         "0.020607899302464528"
        ],
        [
         "11",
         "DSY.PA",
         "0.0188707024243106",
         "0.01754632962799532"
        ],
        [
         "12",
         "EDEN.PA",
         "0.0032883414983428",
         "0.003274510472575923"
        ],
        [
         "13",
         "ENGI.PA",
         "0.0198743840183644",
         "0.019721593043182044"
        ],
        [
         "14",
         "EL.PA",
         "0.0493151593643335",
         "0.04857073080350026"
        ],
        [
         "15",
         "ERF.PA",
         "0.0039184728218913",
         "0.004128551385882185"
        ],
        [
         "16",
         "RMS.PA",
         "0.1050208837104556",
         "0.10470676460404803"
        ],
        [
         "17",
         "KER.PA",
         "0.0088326942476609",
         "0.008681598119133374"
        ],
        [
         "18",
         "OR.PA",
         "0.0800088214617507",
         "0.08548646500683807"
        ],
        [
         "19",
         "LR.PA",
         "0.0107461623379835",
         "0.010540497091928005"
        ],
        [
         "20",
         "MC.PA",
         "0.1060761014822322",
         "0.10370226239066233"
        ],
        [
         "21",
         "ML.PA",
         "0.0094422444719663",
         "0.00936118771966056"
        ],
        [
         "22",
         "ORA.PA",
         "0.0146414614629153",
         "0.014334629159986479"
        ],
        [
         "23",
         "RI.PA",
         "0.0101679619129175",
         "0.01033962426063661"
        ],
        [
         "24",
         "PUB.PA",
         "0.0093275188831857",
         "0.009273575744159558"
        ],
        [
         "25",
         "RNO.PA",
         "0.0055535134107652",
         "0.005590351884545997"
        ],
        [
         "26",
         "SAF.PA",
         "0.0390238669500758",
         "0.03908440583706704"
        ],
        [
         "27",
         "SGO.PA",
         "0.01884414489393",
         "0.01879111031426438"
        ],
        [
         "28",
         "SAN.PA",
         "0.0485215912189906",
         "0.04820358325578899"
        ],
        [
         "29",
         "SU.PA",
         "0.0504100178654865",
         "0.04978151802929449"
        ],
        [
         "30",
         "GLE.PA",
         "0.0134380502674063",
         "0.013834183278703383"
        ],
        [
         "31",
         "STLAM.MI",
         "0.0104612152158064",
         "0.010104603310159088"
        ],
        [
         "32",
         "STMPA.PA",
         "0.0070162399976704",
         "0.007431978450134778"
        ],
        [
         "33",
         "TEP.PA",
         "0.0023006519261554",
         "0.0022534492917457836"
        ],
        [
         "34",
         "HO.PA",
         "0.0227623835746435",
         "0.021216115218398186"
        ],
        [
         "35",
         "TTE.PA",
         "0.0501350625610834",
         "0.049475786591748123"
        ],
        [
         "36",
         "UBLB.F",
         "0.0044740750349234",
         "0.004366087943307761"
        ],
        [
         "37",
         "VIE.PA",
         "0.0099151890181118",
         "0.009775922966435693"
        ],
        [
         "38",
         "DG.PA",
         "0.0293397142722121",
         "0.028613100605991933"
        ]
       ],
       "shape": {
        "columns": 3,
        "rows": 39
       }
      },
      "text/html": [
       "<div>\n",
       "<style scoped>\n",
       "    .dataframe tbody tr th:only-of-type {\n",
       "        vertical-align: middle;\n",
       "    }\n",
       "\n",
       "    .dataframe tbody tr th {\n",
       "        vertical-align: top;\n",
       "    }\n",
       "\n",
       "    .dataframe thead th {\n",
       "        text-align: right;\n",
       "    }\n",
       "</style>\n",
       "<table border=\"1\" class=\"dataframe\">\n",
       "  <thead>\n",
       "    <tr style=\"text-align: right;\">\n",
       "      <th></th>\n",
       "      <th>Symbol</th>\n",
       "      <th>Weights_old</th>\n",
       "      <th>Weights_new</th>\n",
       "    </tr>\n",
       "  </thead>\n",
       "  <tbody>\n",
       "    <tr>\n",
       "      <th>0</th>\n",
       "      <td>AC.PA</td>\n",
       "      <td>0.004179</td>\n",
       "      <td>0.004217</td>\n",
       "    </tr>\n",
       "    <tr>\n",
       "      <th>1</th>\n",
       "      <td>AI.PA</td>\n",
       "      <td>0.043741</td>\n",
       "      <td>0.043642</td>\n",
       "    </tr>\n",
       "    <tr>\n",
       "      <th>2</th>\n",
       "      <td>AIR.PA</td>\n",
       "      <td>0.047099</td>\n",
       "      <td>0.046501</td>\n",
       "    </tr>\n",
       "    <tr>\n",
       "      <th>3</th>\n",
       "      <td>MT.AS</td>\n",
       "      <td>0.007946</td>\n",
       "      <td>0.008246</td>\n",
       "    </tr>\n",
       "    <tr>\n",
       "      <th>4</th>\n",
       "      <td>CS.PA</td>\n",
       "      <td>0.037652</td>\n",
       "      <td>0.037602</td>\n",
       "    </tr>\n",
       "    <tr>\n",
       "      <th>5</th>\n",
       "      <td>BNP.PA</td>\n",
       "      <td>0.035001</td>\n",
       "      <td>0.034722</td>\n",
       "    </tr>\n",
       "    <tr>\n",
       "      <th>6</th>\n",
       "      <td>EN.PA</td>\n",
       "      <td>0.006162</td>\n",
       "      <td>0.006051</td>\n",
       "    </tr>\n",
       "    <tr>\n",
       "      <th>7</th>\n",
       "      <td>CAP.PA</td>\n",
       "      <td>0.009370</td>\n",
       "      <td>0.009575</td>\n",
       "    </tr>\n",
       "    <tr>\n",
       "      <th>8</th>\n",
       "      <td>CA.PA</td>\n",
       "      <td>0.003748</td>\n",
       "      <td>0.003784</td>\n",
       "    </tr>\n",
       "    <tr>\n",
       "      <th>9</th>\n",
       "      <td>ACA.PA</td>\n",
       "      <td>0.021579</td>\n",
       "      <td>0.021612</td>\n",
       "    </tr>\n",
       "    <tr>\n",
       "      <th>10</th>\n",
       "      <td>BN.PA</td>\n",
       "      <td>0.020719</td>\n",
       "      <td>0.020608</td>\n",
       "    </tr>\n",
       "    <tr>\n",
       "      <th>11</th>\n",
       "      <td>DSY.PA</td>\n",
       "      <td>0.018871</td>\n",
       "      <td>0.017546</td>\n",
       "    </tr>\n",
       "    <tr>\n",
       "      <th>12</th>\n",
       "      <td>EDEN.PA</td>\n",
       "      <td>0.003288</td>\n",
       "      <td>0.003275</td>\n",
       "    </tr>\n",
       "    <tr>\n",
       "      <th>13</th>\n",
       "      <td>ENGI.PA</td>\n",
       "      <td>0.019874</td>\n",
       "      <td>0.019722</td>\n",
       "    </tr>\n",
       "    <tr>\n",
       "      <th>14</th>\n",
       "      <td>EL.PA</td>\n",
       "      <td>0.049315</td>\n",
       "      <td>0.048571</td>\n",
       "    </tr>\n",
       "    <tr>\n",
       "      <th>15</th>\n",
       "      <td>ERF.PA</td>\n",
       "      <td>0.003918</td>\n",
       "      <td>0.004129</td>\n",
       "    </tr>\n",
       "    <tr>\n",
       "      <th>16</th>\n",
       "      <td>RMS.PA</td>\n",
       "      <td>0.105021</td>\n",
       "      <td>0.104707</td>\n",
       "    </tr>\n",
       "    <tr>\n",
       "      <th>17</th>\n",
       "      <td>KER.PA</td>\n",
       "      <td>0.008833</td>\n",
       "      <td>0.008682</td>\n",
       "    </tr>\n",
       "    <tr>\n",
       "      <th>18</th>\n",
       "      <td>OR.PA</td>\n",
       "      <td>0.080009</td>\n",
       "      <td>0.085486</td>\n",
       "    </tr>\n",
       "    <tr>\n",
       "      <th>19</th>\n",
       "      <td>LR.PA</td>\n",
       "      <td>0.010746</td>\n",
       "      <td>0.010540</td>\n",
       "    </tr>\n",
       "    <tr>\n",
       "      <th>20</th>\n",
       "      <td>MC.PA</td>\n",
       "      <td>0.106076</td>\n",
       "      <td>0.103702</td>\n",
       "    </tr>\n",
       "    <tr>\n",
       "      <th>21</th>\n",
       "      <td>ML.PA</td>\n",
       "      <td>0.009442</td>\n",
       "      <td>0.009361</td>\n",
       "    </tr>\n",
       "    <tr>\n",
       "      <th>22</th>\n",
       "      <td>ORA.PA</td>\n",
       "      <td>0.014641</td>\n",
       "      <td>0.014335</td>\n",
       "    </tr>\n",
       "    <tr>\n",
       "      <th>23</th>\n",
       "      <td>RI.PA</td>\n",
       "      <td>0.010168</td>\n",
       "      <td>0.010340</td>\n",
       "    </tr>\n",
       "    <tr>\n",
       "      <th>24</th>\n",
       "      <td>PUB.PA</td>\n",
       "      <td>0.009328</td>\n",
       "      <td>0.009274</td>\n",
       "    </tr>\n",
       "    <tr>\n",
       "      <th>25</th>\n",
       "      <td>RNO.PA</td>\n",
       "      <td>0.005554</td>\n",
       "      <td>0.005590</td>\n",
       "    </tr>\n",
       "    <tr>\n",
       "      <th>26</th>\n",
       "      <td>SAF.PA</td>\n",
       "      <td>0.039024</td>\n",
       "      <td>0.039084</td>\n",
       "    </tr>\n",
       "    <tr>\n",
       "      <th>27</th>\n",
       "      <td>SGO.PA</td>\n",
       "      <td>0.018844</td>\n",
       "      <td>0.018791</td>\n",
       "    </tr>\n",
       "    <tr>\n",
       "      <th>28</th>\n",
       "      <td>SAN.PA</td>\n",
       "      <td>0.048522</td>\n",
       "      <td>0.048204</td>\n",
       "    </tr>\n",
       "    <tr>\n",
       "      <th>29</th>\n",
       "      <td>SU.PA</td>\n",
       "      <td>0.050410</td>\n",
       "      <td>0.049782</td>\n",
       "    </tr>\n",
       "    <tr>\n",
       "      <th>30</th>\n",
       "      <td>GLE.PA</td>\n",
       "      <td>0.013438</td>\n",
       "      <td>0.013834</td>\n",
       "    </tr>\n",
       "    <tr>\n",
       "      <th>31</th>\n",
       "      <td>STLAM.MI</td>\n",
       "      <td>0.010461</td>\n",
       "      <td>0.010105</td>\n",
       "    </tr>\n",
       "    <tr>\n",
       "      <th>32</th>\n",
       "      <td>STMPA.PA</td>\n",
       "      <td>0.007016</td>\n",
       "      <td>0.007432</td>\n",
       "    </tr>\n",
       "    <tr>\n",
       "      <th>33</th>\n",
       "      <td>TEP.PA</td>\n",
       "      <td>0.002301</td>\n",
       "      <td>0.002253</td>\n",
       "    </tr>\n",
       "    <tr>\n",
       "      <th>34</th>\n",
       "      <td>HO.PA</td>\n",
       "      <td>0.022762</td>\n",
       "      <td>0.021216</td>\n",
       "    </tr>\n",
       "    <tr>\n",
       "      <th>35</th>\n",
       "      <td>TTE.PA</td>\n",
       "      <td>0.050135</td>\n",
       "      <td>0.049476</td>\n",
       "    </tr>\n",
       "    <tr>\n",
       "      <th>36</th>\n",
       "      <td>UBLB.F</td>\n",
       "      <td>0.004474</td>\n",
       "      <td>0.004366</td>\n",
       "    </tr>\n",
       "    <tr>\n",
       "      <th>37</th>\n",
       "      <td>VIE.PA</td>\n",
       "      <td>0.009915</td>\n",
       "      <td>0.009776</td>\n",
       "    </tr>\n",
       "    <tr>\n",
       "      <th>38</th>\n",
       "      <td>DG.PA</td>\n",
       "      <td>0.029340</td>\n",
       "      <td>0.028613</td>\n",
       "    </tr>\n",
       "  </tbody>\n",
       "</table>\n",
       "</div>"
      ],
      "text/plain": [
       "      Symbol  Weights_old  Weights_new\n",
       "0      AC.PA     0.004179     0.004217\n",
       "1      AI.PA     0.043741     0.043642\n",
       "2     AIR.PA     0.047099     0.046501\n",
       "3      MT.AS     0.007946     0.008246\n",
       "4      CS.PA     0.037652     0.037602\n",
       "5     BNP.PA     0.035001     0.034722\n",
       "6      EN.PA     0.006162     0.006051\n",
       "7     CAP.PA     0.009370     0.009575\n",
       "8      CA.PA     0.003748     0.003784\n",
       "9     ACA.PA     0.021579     0.021612\n",
       "10     BN.PA     0.020719     0.020608\n",
       "11    DSY.PA     0.018871     0.017546\n",
       "12   EDEN.PA     0.003288     0.003275\n",
       "13   ENGI.PA     0.019874     0.019722\n",
       "14     EL.PA     0.049315     0.048571\n",
       "15    ERF.PA     0.003918     0.004129\n",
       "16    RMS.PA     0.105021     0.104707\n",
       "17    KER.PA     0.008833     0.008682\n",
       "18     OR.PA     0.080009     0.085486\n",
       "19     LR.PA     0.010746     0.010540\n",
       "20     MC.PA     0.106076     0.103702\n",
       "21     ML.PA     0.009442     0.009361\n",
       "22    ORA.PA     0.014641     0.014335\n",
       "23     RI.PA     0.010168     0.010340\n",
       "24    PUB.PA     0.009328     0.009274\n",
       "25    RNO.PA     0.005554     0.005590\n",
       "26    SAF.PA     0.039024     0.039084\n",
       "27    SGO.PA     0.018844     0.018791\n",
       "28    SAN.PA     0.048522     0.048204\n",
       "29     SU.PA     0.050410     0.049782\n",
       "30    GLE.PA     0.013438     0.013834\n",
       "31  STLAM.MI     0.010461     0.010105\n",
       "32  STMPA.PA     0.007016     0.007432\n",
       "33    TEP.PA     0.002301     0.002253\n",
       "34     HO.PA     0.022762     0.021216\n",
       "35    TTE.PA     0.050135     0.049476\n",
       "36    UBLB.F     0.004474     0.004366\n",
       "37    VIE.PA     0.009915     0.009776\n",
       "38     DG.PA     0.029340     0.028613"
      ]
     },
     "execution_count": 3,
     "metadata": {},
     "output_type": "execute_result"
    }
   ],
   "source": [
    "[old, df_wgts] = cw.calculate_weights()\n",
    "df_wgts"
   ]
  },
  {
   "cell_type": "code",
   "execution_count": 4,
   "metadata": {},
   "outputs": [
    {
     "data": {
      "application/vnd.microsoft.datawrangler.viewer.v0+json": {
       "columns": [
        {
         "name": "index",
         "rawType": "int64",
         "type": "integer"
        },
        {
         "name": "Asset",
         "rawType": "object",
         "type": "string"
        },
        {
         "name": "Weight_Sample",
         "rawType": "float64",
         "type": "float"
        },
        {
         "name": "Weight_LW",
         "rawType": "float64",
         "type": "float"
        }
       ],
       "conversionMethod": "pd.DataFrame",
       "ref": "7c722c62-2112-4f9a-866e-9e1bab4bb613",
       "rows": [
        [
         "0",
         "AC.PA",
         "0.0",
         "0.0"
        ],
        [
         "1",
         "ACA.PA",
         "0.0",
         "0.0"
        ],
        [
         "2",
         "AI.PA",
         "0.0",
         "0.0"
        ],
        [
         "3",
         "AIR.PA",
         "0.0",
         "0.0"
        ],
        [
         "4",
         "BN.PA",
         "0.17684287448625274",
         "0.12112826482717046"
        ],
        [
         "5",
         "BNP.PA",
         "0.0",
         "0.0"
        ],
        [
         "6",
         "BVI.PA",
         "0.0",
         "0.0"
        ],
        [
         "7",
         "CA.PA",
         "0.0",
         "0.0"
        ],
        [
         "8",
         "CAP.PA",
         "0.0",
         "0.0"
        ],
        [
         "9",
         "CS.PA",
         "0.0",
         "0.06683501596766415"
        ],
        [
         "10",
         "DG.PA",
         "0.0",
         "0.0"
        ],
        [
         "11",
         "DSY.PA",
         "0.0",
         "0.007846765160751421"
        ],
        [
         "12",
         "EDEN.PA",
         "0.0",
         "0.0"
        ],
        [
         "13",
         "EL.PA",
         "0.0",
         "0.0443983350536189"
        ],
        [
         "14",
         "EN.PA",
         "0.0",
         "0.0"
        ],
        [
         "15",
         "ENGI.PA",
         "0.0",
         "0.0"
        ],
        [
         "16",
         "ERF.PA",
         "0.0",
         "0.0"
        ],
        [
         "17",
         "GLE.PA",
         "0.0",
         "0.0"
        ],
        [
         "18",
         "HO.PA",
         "0.17609990995258493",
         "0.17342612725758877"
        ],
        [
         "19",
         "KER.PA",
         "0.0",
         "0.0"
        ],
        [
         "20",
         "LR.PA",
         "0.0",
         "0.0"
        ],
        [
         "21",
         "MC.PA",
         "0.0",
         "0.0"
        ],
        [
         "22",
         "ML.PA",
         "0.0",
         "0.0"
        ],
        [
         "23",
         "MT.AS",
         "0.0",
         "0.0"
        ],
        [
         "24",
         "OR.PA",
         "0.0",
         "0.0"
        ],
        [
         "25",
         "ORA.PA",
         "0.08814265955765412",
         "0.07121324124368872"
        ],
        [
         "26",
         "PUB.PA",
         "0.06971239381961276",
         "0.10838967172304612"
        ],
        [
         "27",
         "RI.PA",
         "0.0",
         "0.0"
        ],
        [
         "28",
         "RMS.PA",
         "0.13327709061383564",
         "0.12073893838109644"
        ],
        [
         "29",
         "RNO.PA",
         "0.0",
         "0.0"
        ],
        [
         "30",
         "SAF.PA",
         "0.0",
         "0.0"
        ],
        [
         "31",
         "SAN.PA",
         "0.01763980168583525",
         "0.04282754775715684"
        ],
        [
         "32",
         "SGO.PA",
         "0.0",
         "0.0"
        ],
        [
         "33",
         "STLAM.MI",
         "0.0",
         "0.0"
        ],
        [
         "34",
         "STMPA.PA",
         "0.0",
         "0.0"
        ],
        [
         "35",
         "SU.PA",
         "0.12148352179766893",
         "0.06629400610977977"
        ],
        [
         "36",
         "TEP.PA",
         "0.0",
         "0.0"
        ],
        [
         "37",
         "TTE.PA",
         "0.21680174829366292",
         "0.17690208597484602"
        ],
        [
         "38",
         "UBLB.F",
         "0.0",
         "0.0"
        ],
        [
         "39",
         "VIE.PA",
         "0.0",
         "0.0"
        ]
       ],
       "shape": {
        "columns": 3,
        "rows": 40
       }
      },
      "text/html": [
       "<div>\n",
       "<style scoped>\n",
       "    .dataframe tbody tr th:only-of-type {\n",
       "        vertical-align: middle;\n",
       "    }\n",
       "\n",
       "    .dataframe tbody tr th {\n",
       "        vertical-align: top;\n",
       "    }\n",
       "\n",
       "    .dataframe thead th {\n",
       "        text-align: right;\n",
       "    }\n",
       "</style>\n",
       "<table border=\"1\" class=\"dataframe\">\n",
       "  <thead>\n",
       "    <tr style=\"text-align: right;\">\n",
       "      <th></th>\n",
       "      <th>Asset</th>\n",
       "      <th>Weight_Sample</th>\n",
       "      <th>Weight_LW</th>\n",
       "    </tr>\n",
       "  </thead>\n",
       "  <tbody>\n",
       "    <tr>\n",
       "      <th>0</th>\n",
       "      <td>AC.PA</td>\n",
       "      <td>0.000000</td>\n",
       "      <td>0.000000</td>\n",
       "    </tr>\n",
       "    <tr>\n",
       "      <th>1</th>\n",
       "      <td>ACA.PA</td>\n",
       "      <td>0.000000</td>\n",
       "      <td>0.000000</td>\n",
       "    </tr>\n",
       "    <tr>\n",
       "      <th>2</th>\n",
       "      <td>AI.PA</td>\n",
       "      <td>0.000000</td>\n",
       "      <td>0.000000</td>\n",
       "    </tr>\n",
       "    <tr>\n",
       "      <th>3</th>\n",
       "      <td>AIR.PA</td>\n",
       "      <td>0.000000</td>\n",
       "      <td>0.000000</td>\n",
       "    </tr>\n",
       "    <tr>\n",
       "      <th>4</th>\n",
       "      <td>BN.PA</td>\n",
       "      <td>0.176843</td>\n",
       "      <td>0.121128</td>\n",
       "    </tr>\n",
       "    <tr>\n",
       "      <th>5</th>\n",
       "      <td>BNP.PA</td>\n",
       "      <td>0.000000</td>\n",
       "      <td>0.000000</td>\n",
       "    </tr>\n",
       "    <tr>\n",
       "      <th>6</th>\n",
       "      <td>BVI.PA</td>\n",
       "      <td>0.000000</td>\n",
       "      <td>0.000000</td>\n",
       "    </tr>\n",
       "    <tr>\n",
       "      <th>7</th>\n",
       "      <td>CA.PA</td>\n",
       "      <td>0.000000</td>\n",
       "      <td>0.000000</td>\n",
       "    </tr>\n",
       "    <tr>\n",
       "      <th>8</th>\n",
       "      <td>CAP.PA</td>\n",
       "      <td>0.000000</td>\n",
       "      <td>0.000000</td>\n",
       "    </tr>\n",
       "    <tr>\n",
       "      <th>9</th>\n",
       "      <td>CS.PA</td>\n",
       "      <td>0.000000</td>\n",
       "      <td>0.066835</td>\n",
       "    </tr>\n",
       "    <tr>\n",
       "      <th>10</th>\n",
       "      <td>DG.PA</td>\n",
       "      <td>0.000000</td>\n",
       "      <td>0.000000</td>\n",
       "    </tr>\n",
       "    <tr>\n",
       "      <th>11</th>\n",
       "      <td>DSY.PA</td>\n",
       "      <td>0.000000</td>\n",
       "      <td>0.007847</td>\n",
       "    </tr>\n",
       "    <tr>\n",
       "      <th>12</th>\n",
       "      <td>EDEN.PA</td>\n",
       "      <td>0.000000</td>\n",
       "      <td>0.000000</td>\n",
       "    </tr>\n",
       "    <tr>\n",
       "      <th>13</th>\n",
       "      <td>EL.PA</td>\n",
       "      <td>0.000000</td>\n",
       "      <td>0.044398</td>\n",
       "    </tr>\n",
       "    <tr>\n",
       "      <th>14</th>\n",
       "      <td>EN.PA</td>\n",
       "      <td>0.000000</td>\n",
       "      <td>0.000000</td>\n",
       "    </tr>\n",
       "    <tr>\n",
       "      <th>15</th>\n",
       "      <td>ENGI.PA</td>\n",
       "      <td>0.000000</td>\n",
       "      <td>0.000000</td>\n",
       "    </tr>\n",
       "    <tr>\n",
       "      <th>16</th>\n",
       "      <td>ERF.PA</td>\n",
       "      <td>0.000000</td>\n",
       "      <td>0.000000</td>\n",
       "    </tr>\n",
       "    <tr>\n",
       "      <th>17</th>\n",
       "      <td>GLE.PA</td>\n",
       "      <td>0.000000</td>\n",
       "      <td>0.000000</td>\n",
       "    </tr>\n",
       "    <tr>\n",
       "      <th>18</th>\n",
       "      <td>HO.PA</td>\n",
       "      <td>0.176100</td>\n",
       "      <td>0.173426</td>\n",
       "    </tr>\n",
       "    <tr>\n",
       "      <th>19</th>\n",
       "      <td>KER.PA</td>\n",
       "      <td>0.000000</td>\n",
       "      <td>0.000000</td>\n",
       "    </tr>\n",
       "    <tr>\n",
       "      <th>20</th>\n",
       "      <td>LR.PA</td>\n",
       "      <td>0.000000</td>\n",
       "      <td>0.000000</td>\n",
       "    </tr>\n",
       "    <tr>\n",
       "      <th>21</th>\n",
       "      <td>MC.PA</td>\n",
       "      <td>0.000000</td>\n",
       "      <td>0.000000</td>\n",
       "    </tr>\n",
       "    <tr>\n",
       "      <th>22</th>\n",
       "      <td>ML.PA</td>\n",
       "      <td>0.000000</td>\n",
       "      <td>0.000000</td>\n",
       "    </tr>\n",
       "    <tr>\n",
       "      <th>23</th>\n",
       "      <td>MT.AS</td>\n",
       "      <td>0.000000</td>\n",
       "      <td>0.000000</td>\n",
       "    </tr>\n",
       "    <tr>\n",
       "      <th>24</th>\n",
       "      <td>OR.PA</td>\n",
       "      <td>0.000000</td>\n",
       "      <td>0.000000</td>\n",
       "    </tr>\n",
       "    <tr>\n",
       "      <th>25</th>\n",
       "      <td>ORA.PA</td>\n",
       "      <td>0.088143</td>\n",
       "      <td>0.071213</td>\n",
       "    </tr>\n",
       "    <tr>\n",
       "      <th>26</th>\n",
       "      <td>PUB.PA</td>\n",
       "      <td>0.069712</td>\n",
       "      <td>0.108390</td>\n",
       "    </tr>\n",
       "    <tr>\n",
       "      <th>27</th>\n",
       "      <td>RI.PA</td>\n",
       "      <td>0.000000</td>\n",
       "      <td>0.000000</td>\n",
       "    </tr>\n",
       "    <tr>\n",
       "      <th>28</th>\n",
       "      <td>RMS.PA</td>\n",
       "      <td>0.133277</td>\n",
       "      <td>0.120739</td>\n",
       "    </tr>\n",
       "    <tr>\n",
       "      <th>29</th>\n",
       "      <td>RNO.PA</td>\n",
       "      <td>0.000000</td>\n",
       "      <td>0.000000</td>\n",
       "    </tr>\n",
       "    <tr>\n",
       "      <th>30</th>\n",
       "      <td>SAF.PA</td>\n",
       "      <td>0.000000</td>\n",
       "      <td>0.000000</td>\n",
       "    </tr>\n",
       "    <tr>\n",
       "      <th>31</th>\n",
       "      <td>SAN.PA</td>\n",
       "      <td>0.017640</td>\n",
       "      <td>0.042828</td>\n",
       "    </tr>\n",
       "    <tr>\n",
       "      <th>32</th>\n",
       "      <td>SGO.PA</td>\n",
       "      <td>0.000000</td>\n",
       "      <td>0.000000</td>\n",
       "    </tr>\n",
       "    <tr>\n",
       "      <th>33</th>\n",
       "      <td>STLAM.MI</td>\n",
       "      <td>0.000000</td>\n",
       "      <td>0.000000</td>\n",
       "    </tr>\n",
       "    <tr>\n",
       "      <th>34</th>\n",
       "      <td>STMPA.PA</td>\n",
       "      <td>0.000000</td>\n",
       "      <td>0.000000</td>\n",
       "    </tr>\n",
       "    <tr>\n",
       "      <th>35</th>\n",
       "      <td>SU.PA</td>\n",
       "      <td>0.121484</td>\n",
       "      <td>0.066294</td>\n",
       "    </tr>\n",
       "    <tr>\n",
       "      <th>36</th>\n",
       "      <td>TEP.PA</td>\n",
       "      <td>0.000000</td>\n",
       "      <td>0.000000</td>\n",
       "    </tr>\n",
       "    <tr>\n",
       "      <th>37</th>\n",
       "      <td>TTE.PA</td>\n",
       "      <td>0.216802</td>\n",
       "      <td>0.176902</td>\n",
       "    </tr>\n",
       "    <tr>\n",
       "      <th>38</th>\n",
       "      <td>UBLB.F</td>\n",
       "      <td>0.000000</td>\n",
       "      <td>0.000000</td>\n",
       "    </tr>\n",
       "    <tr>\n",
       "      <th>39</th>\n",
       "      <td>VIE.PA</td>\n",
       "      <td>0.000000</td>\n",
       "      <td>0.000000</td>\n",
       "    </tr>\n",
       "  </tbody>\n",
       "</table>\n",
       "</div>"
      ],
      "text/plain": [
       "       Asset  Weight_Sample  Weight_LW\n",
       "0      AC.PA       0.000000   0.000000\n",
       "1     ACA.PA       0.000000   0.000000\n",
       "2      AI.PA       0.000000   0.000000\n",
       "3     AIR.PA       0.000000   0.000000\n",
       "4      BN.PA       0.176843   0.121128\n",
       "5     BNP.PA       0.000000   0.000000\n",
       "6     BVI.PA       0.000000   0.000000\n",
       "7      CA.PA       0.000000   0.000000\n",
       "8     CAP.PA       0.000000   0.000000\n",
       "9      CS.PA       0.000000   0.066835\n",
       "10     DG.PA       0.000000   0.000000\n",
       "11    DSY.PA       0.000000   0.007847\n",
       "12   EDEN.PA       0.000000   0.000000\n",
       "13     EL.PA       0.000000   0.044398\n",
       "14     EN.PA       0.000000   0.000000\n",
       "15   ENGI.PA       0.000000   0.000000\n",
       "16    ERF.PA       0.000000   0.000000\n",
       "17    GLE.PA       0.000000   0.000000\n",
       "18     HO.PA       0.176100   0.173426\n",
       "19    KER.PA       0.000000   0.000000\n",
       "20     LR.PA       0.000000   0.000000\n",
       "21     MC.PA       0.000000   0.000000\n",
       "22     ML.PA       0.000000   0.000000\n",
       "23     MT.AS       0.000000   0.000000\n",
       "24     OR.PA       0.000000   0.000000\n",
       "25    ORA.PA       0.088143   0.071213\n",
       "26    PUB.PA       0.069712   0.108390\n",
       "27     RI.PA       0.000000   0.000000\n",
       "28    RMS.PA       0.133277   0.120739\n",
       "29    RNO.PA       0.000000   0.000000\n",
       "30    SAF.PA       0.000000   0.000000\n",
       "31    SAN.PA       0.017640   0.042828\n",
       "32    SGO.PA       0.000000   0.000000\n",
       "33  STLAM.MI       0.000000   0.000000\n",
       "34  STMPA.PA       0.000000   0.000000\n",
       "35     SU.PA       0.121484   0.066294\n",
       "36    TEP.PA       0.000000   0.000000\n",
       "37    TTE.PA       0.216802   0.176902\n",
       "38    UBLB.F       0.000000   0.000000\n",
       "39    VIE.PA       0.000000   0.000000"
      ]
     },
     "execution_count": 4,
     "metadata": {},
     "output_type": "execute_result"
    }
   ],
   "source": [
    "msr = MaxSharpeRatioPortfolio(20250331)\n",
    "[prior, df_weights] = msr.calculate_weights()\n",
    "df_weights"
   ]
  },
  {
   "cell_type": "code",
   "execution_count": 5,
   "metadata": {},
   "outputs": [
    {
     "data": {
      "image/png": "[encoded data removed]",
      "text/plain": [
       "<Figure size 1200x600 with 4 Axes>"
      ]
     },
     "metadata": {},
     "output_type": "display_data"
    }
   ],
   "source": [
    "import seaborn as sns\n",
    "import matplotlib.pyplot as plt\n",
    "\n",
    "plt.figure(figsize=(12, 6))\n",
    "plt.subplot(1, 2, 1)\n",
    "sns.heatmap(msr.df_sample_cov_matrix, annot=False, cmap=\"coolwarm\", cbar=True)\n",
    "plt.title(\"Sample Covariance Matrix\")\n",
    "\n",
    "# Plot the Ledoit-Wolf shrunk covariance matrix\n",
    "plt.subplot(1, 2, 2)\n",
    "sns.heatmap(msr.df_LedoitWolf_cov_matrix, annot=False, cmap=\"coolwarm\", cbar=True)\n",
    "plt.title(\"Ledoit-Wolf Shrunk Covariance Matrix\")\n",
    "\n",
    "plt.tight_layout()\n",
    "plt.show()"
   ]
  },
  {
   "cell_type": "code",
   "execution_count": 6,
   "metadata": {},
   "outputs": [
    {
     "data": {
      "image/png": "[encoded data removed]",
      "text/plain": [
       "<Figure size 1200x600 with 1 Axes>"
      ]
     },
     "metadata": {},
     "output_type": "display_data"
    }
   ],
   "source": [
    "[prior, df_weights] = msr.calculate_weights()\n",
    "df_weights\n",
    "\n",
    "import matplotlib.pyplot as plt\n",
    "\n",
    "# Set the index to 'Asset' for easier plotting\n",
    "df_weights.set_index('Asset', inplace=True)\n",
    "\n",
    "# Plot the weights\n",
    "df_weights.plot(kind='bar', figsize=(12, 6))\n",
    "\n",
    "# Add labels and title\n",
    "plt.title('Portfolio Weights Comparison - Sample vs Ledoit Wolf Shrunk Covariance', fontsize=16)\n",
    "plt.ylabel('Weight', fontsize=12)\n",
    "plt.xlabel('Asset', fontsize=12)\n",
    "plt.xticks(rotation=45)\n",
    "plt.legend(['Sample Covariance', 'Ledoit-Wolf Covariance'], fontsize=12)\n",
    "\n",
    "# Show the plot\n",
    "plt.tight_layout()\n",
    "\n",
    "plt.show()"
   ]
  },
  {
   "cell_type": "code",
   "execution_count": 7,
   "metadata": {},
   "outputs": [
    {
     "data": {
      "text/plain": [
       "array([1., 1.])"
      ]
     },
     "execution_count": 7,
     "metadata": {},
     "output_type": "execute_result"
    }
   ],
   "source": [
    "# sanity check\n",
    "sum(df_weights.loc[:,[\"Weight_Sample\",\"Weight_LW\"]].values)"
   ]
  }
 ],
 "metadata": {
  "kernelspec": {
   "display_name": "idx",
   "language": "python",
   "name": "python3"
  },
  "language_info": {
   "codemirror_mode": {
    "name": "ipython",
    "version": 3
   },
   "file_extension": ".py",
   "mimetype": "text/x-python",
   "name": "python",
   "nbconvert_exporter": "python",
   "pygments_lexer": "ipython3",
   "version": "3.11.11"
  }
 },
 "nbformat": 4,
 "nbformat_minor": 2
}
