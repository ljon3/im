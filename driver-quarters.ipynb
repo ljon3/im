{
 "cells": [
  {
   "cell_type": "code",
   "execution_count": null,
   "id": "f20a0fbc",
   "metadata": {},
   "outputs": [],
   "source": [
    "from utilities.utils import last_working_day, fullpath, last_day\n",
    "import pandas as pd"
   ]
  },
  {
   "cell_type": "code",
   "execution_count": null,
   "id": "3abb7448",
   "metadata": {},
   "outputs": [],
   "source": [
    "quarters = pd.read_csv(fullpath(\"data\",\"quarters.txt\"))\n",
    "quarters"
   ]
  },
  {
   "cell_type": "code",
   "execution_count": null,
   "id": "b3f93dee",
   "metadata": {},
   "outputs": [],
   "source": [
    "for q in range(quarters.shape[0]):\n",
    "    print(last_working_day(str(quarters.iloc[q].values[0])))"
   ]
  },
  {
   "cell_type": "code",
   "execution_count": null,
   "id": "9f735821",
   "metadata": {},
   "outputs": [],
   "source": [
    "last_working_day(str(quarters.iloc[0].values[0]))"
   ]
  },
  {
   "cell_type": "code",
   "execution_count": null,
   "id": "bb5b2cb9",
   "metadata": {},
   "outputs": [],
   "source": [
    "last_day(str(quarters.iloc[0].values[0]))"
   ]
  }
 ],
 "metadata": {
  "kernelspec": {
   "display_name": "idx",
   "language": "python",
   "name": "python3"
  },
  "language_info": {
   "codemirror_mode": {
    "name": "ipython",
    "version": 3
   },
   "file_extension": ".py",
   "mimetype": "text/x-python",
   "name": "python",
   "nbconvert_exporter": "python",
   "pygments_lexer": "ipython3",
   "version": "3.11.11"
  }
 },
 "nbformat": 4,
 "nbformat_minor": 5
}
