{
 "cells": [
  {
   "cell_type": "code",
   "execution_count": 4,
   "id": "f20a0fbc",
   "metadata": {},
   "outputs": [],
   "source": [
    "from utilities.utils import last_working_day, fullpath\n",
    "import pandas as pd"
   ]
  },
  {
   "cell_type": "code",
   "execution_count": 7,
   "id": "3abb7448",
   "metadata": {},
   "outputs": [],
   "source": [
    "quarters = pd.read_csv(fullpath(\"data\",\"quarters.txt\"))"
   ]
  },
  {
   "cell_type": "code",
   "execution_count": 29,
   "id": "b3f93dee",
   "metadata": {},
   "outputs": [
    {
     "name": "stdout",
     "output_type": "stream",
     "text": [
      "2023-12-29\n",
      "2024-03-29\n",
      "2024-06-28\n",
      "2024-09-30\n",
      "2024-12-31\n",
      "2025-03-31\n"
     ]
    }
   ],
   "source": [
    "for q in range(quarters.shape[0]):\n",
    "    print(last_working_day(str(quarters.iloc[q].values[0])))"
   ]
  }
 ],
 "metadata": {
  "kernelspec": {
   "display_name": "idx",
   "language": "python",
   "name": "python3"
  },
  "language_info": {
   "codemirror_mode": {
    "name": "ipython",
    "version": 3
   },
   "file_extension": ".py",
   "mimetype": "text/x-python",
   "name": "python",
   "nbconvert_exporter": "python",
   "pygments_lexer": "ipython3",
   "version": "3.11.11"
  }
 },
 "nbformat": 4,
 "nbformat_minor": 5
}
