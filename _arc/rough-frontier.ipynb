{
 "cells": [
  {
   "cell_type": "code",
   "execution_count": 1,
   "id": "2e6a4d7d",
   "metadata": {},
   "outputs": [],
   "source": [
    "from utilities.utils import fullpath\n",
    "import pandas as pd\n",
    "import numpy as np"
   ]
  },
  {
   "cell_type": "code",
   "execution_count": 2,
   "id": "7a31f629",
   "metadata": {},
   "outputs": [],
   "source": [
    "path_weight_caps = fullpath(\"data\",\"strategy\",\"caps\",\"20250331.csv\")\n",
    "path_weight_msr =  fullpath(\"data\",\"strategy\",\"msr\",\"20250331.csv\")\n",
    "path_prices = fullpath(\"data\",\"market\",\"prices\",\"20250331.csv\")"
   ]
  },
  {
   "cell_type": "code",
   "execution_count": 3,
   "id": "bee7bd63",
   "metadata": {},
   "outputs": [],
   "source": [
    "df_weights_caps = pd.read_csv(path_weight_caps)\n",
    "df_weights_msr = pd.read_csv(path_weight_msr)\n",
    "df_prices = pd.read_csv(path_prices)"
   ]
  },
  {
   "cell_type": "code",
   "execution_count": 4,
   "id": "746310b2",
   "metadata": {},
   "outputs": [],
   "source": [
    "df_prices[\"Date\"] = pd.to_datetime(df_prices[\"Date\"])"
   ]
  },
  {
   "cell_type": "code",
   "execution_count": 5,
   "id": "78dd5146",
   "metadata": {},
   "outputs": [],
   "source": [
    "start_date,end_date = df_prices.iloc[[0,-1]]['Date'].values\n",
    "all_dates = pd.date_range(start=start_date, end=end_date)\n",
    "df_prices_all_dates = pd.DataFrame(all_dates, columns=[\"Dates\"])"
   ]
  },
  {
   "cell_type": "code",
   "execution_count": 6,
   "id": "70e51fc9",
   "metadata": {},
   "outputs": [],
   "source": [
    "df_data_market_all = pd.merge(df_prices, df_prices_all_dates, left_on=\"Date\", right_on=\"Dates\", how=\"right\")\n",
    "df_data_market_all.drop(\"Date\", axis=1, inplace=True)\n",
    "df_data_market_all.ffill(axis=0,inplace=True)\n",
    "df_data_market_all\n",
    "\n",
    "# get month ends\n",
    "idx = df_data_market_all.Dates.dt.is_month_end\n",
    "df_data_market_all = df_data_market_all.loc[idx]\n",
    "df_data_market_all.drop(\"Dates\", axis=1, inplace=True)\n",
    "\n",
    "df_data_market_all"
   ]
  },
  {
   "cell_type": "code",
   "execution_count": 7,
   "id": "54be4528",
   "metadata": {},
   "outputs": [],
   "source": [
    "# get returns from prices\n",
    "df_returns = df_data_market_all.pct_change()\n",
    "df_expected_returns = df_returns.mean()\n",
    "df_expected_returns"
   ]
  },
  {
   "cell_type": "code",
   "execution_count": 8,
   "id": "1dbc95aa",
   "metadata": {},
   "outputs": [],
   "source": [
    "df_expected_returns = pd.DataFrame(df_expected_returns, columns = [\"ExpectedReturns\"])\n",
    "df_expected_returns[\"Symbol\"] = df_expected_returns.index\n",
    "df_expected_returns = df_expected_returns.reset_index(drop=True)\n",
    "df_expected_returns"
   ]
  },
  {
   "cell_type": "code",
   "execution_count": 9,
   "id": "b70b3307",
   "metadata": {},
   "outputs": [],
   "source": [
    "df_covariance_matrix = df_data_market_all.cov() * 12\n",
    "df_covariance_matrix "
   ]
  },
  {
   "cell_type": "code",
   "execution_count": 10,
   "id": "8122cbc0",
   "metadata": {},
   "outputs": [],
   "source": [
    "df_ptf = pd.merge(df_weights_caps, df_expected_returns, on=\"Symbol\")\n",
    "df_ptf.rename(columns={\"Weights\": \"Weights_CW\"}, inplace=True)\n",
    "df_ptf"
   ]
  },
  {
   "cell_type": "code",
   "execution_count": 11,
   "id": "d5bfda0d",
   "metadata": {},
   "outputs": [],
   "source": [
    "df_weights_msr.rename(columns={\"Weights\":\"Weights_MSR\"}, inplace=True)"
   ]
  },
  {
   "cell_type": "code",
   "execution_count": 12,
   "id": "3541859a",
   "metadata": {},
   "outputs": [],
   "source": [
    "df_ptf = pd.merge(df_weights_msr, df_ptf, on=\"Symbol\")\n",
    "df_ptf"
   ]
  },
  {
   "cell_type": "code",
   "execution_count": 13,
   "id": "44dd7793",
   "metadata": {},
   "outputs": [],
   "source": [
    "# Move 'ExpectedReturns' to the second column\n",
    "columns = list(df_ptf.columns)\n",
    "columns.remove(\"ExpectedReturns\")\n",
    "columns.insert(1, \"ExpectedReturns\")  # Insert at the second position\n",
    "df_ptf = df_ptf[columns]\n",
    "\n",
    "# Display the updated DataFrame\n",
    "df_ptf"
   ]
  },
  {
   "cell_type": "code",
   "execution_count": null,
   "id": "98e32136",
   "metadata": {},
   "outputs": [],
   "source": []
  },
  {
   "cell_type": "code",
   "execution_count": null,
   "id": "74611e72",
   "metadata": {},
   "outputs": [],
   "source": []
  },
  {
   "cell_type": "code",
   "execution_count": null,
   "id": "cc1f55b9",
   "metadata": {},
   "outputs": [],
   "source": []
  },
  {
   "cell_type": "code",
   "execution_count": null,
   "id": "3529fd86",
   "metadata": {},
   "outputs": [],
   "source": []
  },
  {
   "cell_type": "code",
   "execution_count": null,
   "id": "efe815b0",
   "metadata": {},
   "outputs": [],
   "source": []
  },
  {
   "cell_type": "code",
   "execution_count": 14,
   "id": "90410f1a",
   "metadata": {},
   "outputs": [],
   "source": [
    "# ptf_return = np.dot(df_ptf_caps.Weights, df_ptf_caps.ExpectedReturns)\n",
    "# ptf_volatility = np.dot(df_ptf_caps.Weights.T, np.dot(df_covariance_matrix, df_ptf_caps.Weights))\n",
    "# ptf_return, ptf_volatility**(1/2)"
   ]
  },
  {
   "cell_type": "code",
   "execution_count": 15,
   "id": "38469a34",
   "metadata": {},
   "outputs": [],
   "source": [
    "# ptf_return = np.dot(df_ptf_msr.Weights, df_ptf_msr.ExpectedReturns)\n",
    "# ptf_volatility = np.dot(df_ptf_msr.Weights.T, np.dot(df_covariance_matrix, df_ptf_msr.Weights))\n",
    "# ptf_return, ptf_volatility**(1/2)"
   ]
  },
  {
   "cell_type": "code",
   "execution_count": 16,
   "id": "209e4488",
   "metadata": {},
   "outputs": [],
   "source": [
    "np.random.seed(42)\n",
    "weights_rand = np.random.random(size=(40,100000))"
   ]
  },
  {
   "cell_type": "code",
   "execution_count": 17,
   "id": "34fb1a1e",
   "metadata": {},
   "outputs": [],
   "source": [
    "rands_sum = sum(weights_rand)"
   ]
  },
  {
   "cell_type": "code",
   "execution_count": 18,
   "id": "9622af6f",
   "metadata": {},
   "outputs": [],
   "source": [
    "weights_rand_normalized = weights_rand/rands_sum\n",
    "sum(sum(weights_rand_normalized))"
   ]
  },
  {
   "cell_type": "code",
   "execution_count": 19,
   "id": "efdafb7a",
   "metadata": {},
   "outputs": [],
   "source": [
    "def get_ptf_returns_volatility(weights):\n",
    "    ptf_return = np.dot(df_ptf_msr.Weights, df_ptf_msr.ExpectedReturns)\n",
    "    ptf_volatility = np.dot(df_ptf_msr.Weights.T, np.dot(df_covariance_matrix, df_ptf_msr.Weights)) ** (1/2)\n",
    "    return ptf_return, ptf_volatility"
   ]
  },
  {
   "cell_type": "code",
   "execution_count": 20,
   "id": "2af06b09",
   "metadata": {},
   "outputs": [],
   "source": [
    "# Create column names for the new weights\n",
    "new_columns = [f\"Weights_Rand_{i}\" for i in range(100000)]\n",
    "\n",
    "# Add the weights_rand_normalized as new columns to df_ptf\n",
    "df_weights_rand = pd.DataFrame(weights_rand_normalized, columns=new_columns)  # Transpose to match rows\n",
    "\n",
    "# Concatenate the new columns with df_ptf\n",
    "df_ptf = pd.concat([df_ptf.reset_index(drop=True), df_weights_rand.reset_index(drop=True)], axis=1)\n",
    "\n",
    "# Display the updated DataFrame\n",
    "df_ptf"
   ]
  },
  {
   "cell_type": "code",
   "execution_count": 21,
   "id": "4b3bc05f",
   "metadata": {},
   "outputs": [],
   "source": [
    "df_ptf.iloc[:,2:].sum().sum()"
   ]
  },
  {
   "cell_type": "code",
   "execution_count": 22,
   "id": "f4f43ccc",
   "metadata": {},
   "outputs": [],
   "source": [
    "ptf_returns = df_ptf.iloc[:,2:].mul(df_ptf[\"ExpectedReturns\"], axis=0)\n",
    "df_ptf_returns = np.sum(ptf_returns, axis=0)\n",
    "df_ptf_returns"
   ]
  },
  {
   "cell_type": "code",
   "execution_count": 23,
   "id": "7b532add",
   "metadata": {},
   "outputs": [],
   "source": [
    "# df_ptf.to_csv(\"test.csv\", index=False)"
   ]
  },
  {
   "cell_type": "code",
   "execution_count": 24,
   "id": "3533a0e1",
   "metadata": {},
   "outputs": [],
   "source": [
    "# Assuming df_covariance_matrix is your covariance matrix\n",
    "# Extract only the weight columns from df_ptf\n",
    "weight_columns = [col for col in df_ptf.columns if col.startswith(\"Weights\")]\n",
    "\n",
    "# Initialize a dictionary to store results\n",
    "portfolio_volatilities = {}\n",
    "\n",
    "# Loop through each weight column\n",
    "for col in weight_columns:\n",
    "    # Extract the weight vector\n",
    "    weights = df_ptf[col].values\n",
    "    \n",
    "    # Compute w * cov_matrix * w^T\n",
    "    portfolio_volatility = (np.dot(weights.T, np.dot(df_covariance_matrix, weights)))**(1/2)\n",
    "    \n",
    "    # Store the result\n",
    "    portfolio_volatilities[col] = portfolio_volatility\n",
    "\n",
    "# Convert results to a DataFrame for better visualization\n",
    "df_portfolio_volatilities = pd.DataFrame.from_dict(portfolio_volatilities, orient=\"index\", columns=[\"Volatility\"])\n",
    "\n",
    "# Display the results\n",
    "print(df_portfolio_volatilities)"
   ]
  },
  {
   "cell_type": "code",
   "execution_count": 25,
   "id": "d10a9a2b",
   "metadata": {},
   "outputs": [],
   "source": [
    "import matplotlib.pyplot as plt\n",
    "\n",
    "# Assuming df_ptf_returns and df_portfolio_volatilities are aligned\n",
    "# Extract returns and volatilities\n",
    "returns = df_ptf_returns.values\n",
    "volatilities = df_portfolio_volatilities[\"Volatility\"].values\n",
    "\n",
    "# Plot the efficient frontier\n",
    "plt.figure(figsize=(10, 6))\n",
    "plt.plot(volatilities, returns, 'o', label=\"Efficient Frontier\", color=\"blue\", alpha=0.7)\n",
    "\n",
    "# Highlight MSR (column 1) in green\n",
    "plt.scatter(volatilities[0], returns[0], color=\"green\", label=\"MSR (Column 1)\", s=100)\n",
    "\n",
    "# Highlight CW (column 2) in red\n",
    "plt.scatter(volatilities[1], returns[1], color=\"red\", label=\"CW (Column 2)\", s=100)\n",
    "\n",
    "# Add labels and legend\n",
    "plt.title(\"Efficient Risk Frontier\", fontsize=16)\n",
    "plt.xlabel(\"Portfolio Volatility (Risk)\", fontsize=12)\n",
    "plt.ylabel(\"Portfolio Return\", fontsize=12)\n",
    "plt.legend(fontsize=12)\n",
    "plt.grid(alpha=0.3)\n",
    "\n",
    "# Show the plot\n",
    "plt.tight_layout()\n",
    "plt.show()"
   ]
  },
  {
   "cell_type": "code",
   "execution_count": 26,
   "id": "06ed3196",
   "metadata": {},
   "outputs": [],
   "source": [
    "weight_columns = [col for col in df_ptf.columns if col.startswith(\"Weights\")]\n",
    "df_ptf[weight_columns] = df_ptf[weight_columns].div(df_ptf[weight_columns].sum(axis=0), axis=1)\n",
    "\n",
    "ptf_returns = df_ptf.iloc[:, 2:].mul(df_ptf[\"ExpectedReturns\"], axis=0)\n",
    "df_ptf_returns = ptf_returns.sum(axis=0)\n",
    "\n",
    "portfolio_volatilities = {}\n",
    "for col in weight_columns:\n",
    "    weights = df_ptf[col].values\n",
    "    portfolio_volatility = np.dot(weights.T, np.dot(df_covariance_matrix, weights)) ** 0.5\n",
    "    portfolio_volatilities[col] = portfolio_volatility\n",
    "\n",
    "df_portfolio_volatilities = pd.DataFrame.from_dict(portfolio_volatilities, orient=\"index\", columns=[\"Volatility\"])\n",
    "\n",
    "import matplotlib.pyplot as plt\n",
    "\n",
    "# Extract returns and volatilities\n",
    "returns = df_ptf_returns.values\n",
    "volatilities = df_portfolio_volatilities[\"Volatility\"].values\n",
    "\n",
    "# Plot the efficient frontier\n",
    "plt.figure(figsize=(10, 6))\n",
    "plt.plot(volatilities, returns, 'o-', label=\"Efficient Frontier\", color=\"blue\", alpha=0.7)\n",
    "\n",
    "# Highlight MSR (column 1) in green\n",
    "plt.scatter(volatilities[0], returns[0], color=\"green\", label=\"MSR (Column 1)\", s=100)\n",
    "\n",
    "# Highlight CW (column 2) in red\n",
    "plt.scatter(volatilities[1], returns[1], color=\"red\", label=\"CW (Column 2)\", s=100)\n",
    "\n",
    "# Add labels and legend\n",
    "plt.title(\"Efficient Risk Frontier\", fontsize=16)\n",
    "plt.xlabel(\"Portfolio Volatility (Risk)\", fontsize=12)\n",
    "plt.ylabel(\"Portfolio Return\", fontsize=12)\n",
    "plt.legend(fontsize=12)\n",
    "plt.grid(alpha=0.3)\n",
    "\n",
    "# Show the plot\n",
    "plt.tight_layout()\n",
    "plt.show()"
   ]
  },
  {
   "cell_type": "code",
   "execution_count": null,
   "id": "9d95c6ce",
   "metadata": {},
   "outputs": [],
   "source": []
  },
  {
   "cell_type": "code",
   "execution_count": null,
   "id": "5768b0b3",
   "metadata": {},
   "outputs": [],
   "source": []
  },
  {
   "cell_type": "code",
   "execution_count": null,
   "id": "31a70b1e",
   "metadata": {},
   "outputs": [],
   "source": []
  },
  {
   "cell_type": "code",
   "execution_count": null,
   "id": "83811b26",
   "metadata": {},
   "outputs": [],
   "source": []
  },
  {
   "cell_type": "code",
   "execution_count": null,
   "id": "9d4b20a6",
   "metadata": {},
   "outputs": [],
   "source": []
  },
  {
   "cell_type": "code",
   "execution_count": null,
   "id": "0a4cd34f",
   "metadata": {},
   "outputs": [],
   "source": []
  },
  {
   "cell_type": "code",
   "execution_count": null,
   "id": "5c87b8dd",
   "metadata": {},
   "outputs": [],
   "source": []
  },
  {
   "cell_type": "code",
   "execution_count": null,
   "id": "9d104faa",
   "metadata": {},
   "outputs": [],
   "source": []
  },
  {
   "cell_type": "code",
   "execution_count": null,
   "id": "2ac81731",
   "metadata": {},
   "outputs": [],
   "source": []
  },
  {
   "cell_type": "code",
   "execution_count": null,
   "id": "9f4e419d",
   "metadata": {},
   "outputs": [],
   "source": []
  },
  {
   "cell_type": "code",
   "execution_count": null,
   "id": "eee44804",
   "metadata": {},
   "outputs": [],
   "source": []
  },
  {
   "cell_type": "code",
   "execution_count": null,
   "id": "9f5d5d15",
   "metadata": {},
   "outputs": [],
   "source": []
  },
  {
   "cell_type": "code",
   "execution_count": null,
   "id": "bdd7dc00",
   "metadata": {},
   "outputs": [],
   "source": []
  },
  {
   "cell_type": "code",
   "execution_count": null,
   "id": "5585c93e",
   "metadata": {},
   "outputs": [],
   "source": []
  },
  {
   "cell_type": "code",
   "execution_count": null,
   "id": "b1f6ca15",
   "metadata": {},
   "outputs": [],
   "source": []
  },
  {
   "cell_type": "code",
   "execution_count": null,
   "id": "a6002033",
   "metadata": {},
   "outputs": [],
   "source": []
  },
  {
   "cell_type": "code",
   "execution_count": null,
   "id": "c8eeeb65",
   "metadata": {},
   "outputs": [],
   "source": []
  },
  {
   "cell_type": "code",
   "execution_count": null,
   "id": "126f4be9",
   "metadata": {},
   "outputs": [],
   "source": []
  },
  {
   "cell_type": "code",
   "execution_count": null,
   "id": "ba878460",
   "metadata": {},
   "outputs": [],
   "source": []
  },
  {
   "cell_type": "code",
   "execution_count": null,
   "id": "c512dc40",
   "metadata": {},
   "outputs": [],
   "source": []
  },
  {
   "cell_type": "code",
   "execution_count": null,
   "id": "8d31bb48",
   "metadata": {},
   "outputs": [],
   "source": []
  },
  {
   "cell_type": "code",
   "execution_count": null,
   "id": "84ed841b",
   "metadata": {},
   "outputs": [],
   "source": []
  },
  {
   "cell_type": "code",
   "execution_count": null,
   "id": "ab7632ec",
   "metadata": {},
   "outputs": [],
   "source": []
  },
  {
   "cell_type": "code",
   "execution_count": null,
   "id": "758e05ca",
   "metadata": {},
   "outputs": [],
   "source": []
  },
  {
   "cell_type": "code",
   "execution_count": null,
   "id": "a35b78e5",
   "metadata": {},
   "outputs": [],
   "source": []
  },
  {
   "cell_type": "code",
   "execution_count": null,
   "id": "481b8001",
   "metadata": {},
   "outputs": [],
   "source": []
  }
 ],
 "metadata": {
  "kernelspec": {
   "display_name": "idx",
   "language": "python",
   "name": "python3"
  },
  "language_info": {
   "codemirror_mode": {
    "name": "ipython",
    "version": 3
   },
   "file_extension": ".py",
   "mimetype": "text/x-python",
   "name": "python",
   "nbconvert_exporter": "python",
   "pygments_lexer": "ipython3",
   "version": "3.11.11"
  }
 },
 "nbformat": 4,
 "nbformat_minor": 5
}
