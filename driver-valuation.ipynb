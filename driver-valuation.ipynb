{
 "cells": [
  {
   "cell_type": "code",
   "execution_count": 4,
   "id": "9798c5ae",
   "metadata": {},
   "outputs": [],
   "source": [
    "from valuation.Manager import Valuation"
   ]
  },
  {
   "cell_type": "code",
   "execution_count": 5,
   "id": "16447529",
   "metadata": {},
   "outputs": [
    {
     "data": {
      "application/vnd.microsoft.datawrangler.viewer.v0+json": {
       "columns": [
        {
         "name": "index",
         "rawType": "int64",
         "type": "integer"
        },
        {
         "name": "Symbol",
         "rawType": "object",
         "type": "string"
        },
        {
         "name": "NumShares",
         "rawType": "float64",
         "type": "float"
        }
       ],
       "conversionMethod": "pd.DataFrame",
       "ref": "b5690d07-34f5-441f-b620-c06fb521bbcb",
       "rows": [
        [
         "0",
         "AC.PA",
         "100476.0"
        ],
        [
         "1",
         "ACA.PA",
         "1273724.0"
        ],
        [
         "2",
         "AI.PA",
         "243407.0"
        ],
        [
         "3",
         "AIR.PA",
         "286518.0"
        ],
        [
         "4",
         "BN.PA",
         "284798.0"
        ],
        [
         "5",
         "BNP.PA",
         "458817.0"
        ],
        [
         "6",
         "BVI.PA",
         "184709.0"
        ],
        [
         "7",
         "CA.PA",
         "284658.0"
        ],
        [
         "8",
         "CAP.PA",
         "68874.0"
        ],
        [
         "9",
         "CS.PA",
         "942437.0"
        ],
        [
         "10",
         "DG.PA",
         "251506.0"
        ],
        [
         "11",
         "DSY.PA",
         "538003.0"
        ],
        [
         "12",
         "EDEN.PA",
         "108992.0"
        ],
        [
         "13",
         "EL.PA",
         "186680.0"
        ],
        [
         "14",
         "EN.PA",
         "164720.0"
        ],
        [
         "15",
         "ENGI.PA",
         "1077495.0"
        ],
        [
         "16",
         "ERF.PA",
         "85489.0"
        ],
        [
         "17",
         "GLE.PA",
         "332567.0"
        ],
        [
         "18",
         "HO.PA",
         "89541.0"
        ],
        [
         "19",
         "KER.PA",
         "47539.0"
        ],
        [
         "20",
         "LR.PA",
         "107770.0"
        ],
        [
         "21",
         "MC.PA",
         "187498.0"
        ],
        [
         "22",
         "ML.PA",
         "286779.0"
        ],
        [
         "23",
         "MT.AS",
         "310098.0"
        ],
        [
         "24",
         "OR.PA",
         "246993.0"
        ],
        [
         "25",
         "ORA.PA",
         "1186788.0"
        ],
        [
         "26",
         "PUB.PA",
         "105631.0"
        ],
        [
         "27",
         "RI.PA",
         "112661.0"
        ],
        [
         "28",
         "RMS.PA",
         "43390.0"
        ],
        [
         "29",
         "RNO.PA",
         "118045.0"
        ],
        [
         "30",
         "SAF.PA",
         "161080.0"
        ],
        [
         "31",
         "SAN.PA",
         "472779.0"
        ],
        [
         "32",
         "SGO.PA",
         "206426.0"
        ],
        [
         "33",
         "STLAM.MI",
         "1072878.0"
        ],
        [
         "34",
         "STMPA.PA",
         "363301.0"
        ],
        [
         "35",
         "SU.PA",
         "235200.0"
        ],
        [
         "36",
         "TEP.PA",
         "24510.0"
        ],
        [
         "37",
         "TTE.PA",
         "816461.0"
        ],
        [
         "38",
         "UBLB.F",
         "1151799.0"
        ],
        [
         "39",
         "VIE.PA",
         "304341.0"
        ]
       ],
       "shape": {
        "columns": 2,
        "rows": 40
       }
      },
      "text/html": [
       "<div>\n",
       "<style scoped>\n",
       "    .dataframe tbody tr th:only-of-type {\n",
       "        vertical-align: middle;\n",
       "    }\n",
       "\n",
       "    .dataframe tbody tr th {\n",
       "        vertical-align: top;\n",
       "    }\n",
       "\n",
       "    .dataframe thead th {\n",
       "        text-align: right;\n",
       "    }\n",
       "</style>\n",
       "<table border=\"1\" class=\"dataframe\">\n",
       "  <thead>\n",
       "    <tr style=\"text-align: right;\">\n",
       "      <th></th>\n",
       "      <th>Symbol</th>\n",
       "      <th>NumShares</th>\n",
       "    </tr>\n",
       "  </thead>\n",
       "  <tbody>\n",
       "    <tr>\n",
       "      <th>0</th>\n",
       "      <td>AC.PA</td>\n",
       "      <td>100476.0</td>\n",
       "    </tr>\n",
       "    <tr>\n",
       "      <th>1</th>\n",
       "      <td>ACA.PA</td>\n",
       "      <td>1273724.0</td>\n",
       "    </tr>\n",
       "    <tr>\n",
       "      <th>2</th>\n",
       "      <td>AI.PA</td>\n",
       "      <td>243407.0</td>\n",
       "    </tr>\n",
       "    <tr>\n",
       "      <th>3</th>\n",
       "      <td>AIR.PA</td>\n",
       "      <td>286518.0</td>\n",
       "    </tr>\n",
       "    <tr>\n",
       "      <th>4</th>\n",
       "      <td>BN.PA</td>\n",
       "      <td>284798.0</td>\n",
       "    </tr>\n",
       "    <tr>\n",
       "      <th>5</th>\n",
       "      <td>BNP.PA</td>\n",
       "      <td>458817.0</td>\n",
       "    </tr>\n",
       "    <tr>\n",
       "      <th>6</th>\n",
       "      <td>BVI.PA</td>\n",
       "      <td>184709.0</td>\n",
       "    </tr>\n",
       "    <tr>\n",
       "      <th>7</th>\n",
       "      <td>CA.PA</td>\n",
       "      <td>284658.0</td>\n",
       "    </tr>\n",
       "    <tr>\n",
       "      <th>8</th>\n",
       "      <td>CAP.PA</td>\n",
       "      <td>68874.0</td>\n",
       "    </tr>\n",
       "    <tr>\n",
       "      <th>9</th>\n",
       "      <td>CS.PA</td>\n",
       "      <td>942437.0</td>\n",
       "    </tr>\n",
       "    <tr>\n",
       "      <th>10</th>\n",
       "      <td>DG.PA</td>\n",
       "      <td>251506.0</td>\n",
       "    </tr>\n",
       "    <tr>\n",
       "      <th>11</th>\n",
       "      <td>DSY.PA</td>\n",
       "      <td>538003.0</td>\n",
       "    </tr>\n",
       "    <tr>\n",
       "      <th>12</th>\n",
       "      <td>EDEN.PA</td>\n",
       "      <td>108992.0</td>\n",
       "    </tr>\n",
       "    <tr>\n",
       "      <th>13</th>\n",
       "      <td>EL.PA</td>\n",
       "      <td>186680.0</td>\n",
       "    </tr>\n",
       "    <tr>\n",
       "      <th>14</th>\n",
       "      <td>EN.PA</td>\n",
       "      <td>164720.0</td>\n",
       "    </tr>\n",
       "    <tr>\n",
       "      <th>15</th>\n",
       "      <td>ENGI.PA</td>\n",
       "      <td>1077495.0</td>\n",
       "    </tr>\n",
       "    <tr>\n",
       "      <th>16</th>\n",
       "      <td>ERF.PA</td>\n",
       "      <td>85489.0</td>\n",
       "    </tr>\n",
       "    <tr>\n",
       "      <th>17</th>\n",
       "      <td>GLE.PA</td>\n",
       "      <td>332567.0</td>\n",
       "    </tr>\n",
       "    <tr>\n",
       "      <th>18</th>\n",
       "      <td>HO.PA</td>\n",
       "      <td>89541.0</td>\n",
       "    </tr>\n",
       "    <tr>\n",
       "      <th>19</th>\n",
       "      <td>KER.PA</td>\n",
       "      <td>47539.0</td>\n",
       "    </tr>\n",
       "    <tr>\n",
       "      <th>20</th>\n",
       "      <td>LR.PA</td>\n",
       "      <td>107770.0</td>\n",
       "    </tr>\n",
       "    <tr>\n",
       "      <th>21</th>\n",
       "      <td>MC.PA</td>\n",
       "      <td>187498.0</td>\n",
       "    </tr>\n",
       "    <tr>\n",
       "      <th>22</th>\n",
       "      <td>ML.PA</td>\n",
       "      <td>286779.0</td>\n",
       "    </tr>\n",
       "    <tr>\n",
       "      <th>23</th>\n",
       "      <td>MT.AS</td>\n",
       "      <td>310098.0</td>\n",
       "    </tr>\n",
       "    <tr>\n",
       "      <th>24</th>\n",
       "      <td>OR.PA</td>\n",
       "      <td>246993.0</td>\n",
       "    </tr>\n",
       "    <tr>\n",
       "      <th>25</th>\n",
       "      <td>ORA.PA</td>\n",
       "      <td>1186788.0</td>\n",
       "    </tr>\n",
       "    <tr>\n",
       "      <th>26</th>\n",
       "      <td>PUB.PA</td>\n",
       "      <td>105631.0</td>\n",
       "    </tr>\n",
       "    <tr>\n",
       "      <th>27</th>\n",
       "      <td>RI.PA</td>\n",
       "      <td>112661.0</td>\n",
       "    </tr>\n",
       "    <tr>\n",
       "      <th>28</th>\n",
       "      <td>RMS.PA</td>\n",
       "      <td>43390.0</td>\n",
       "    </tr>\n",
       "    <tr>\n",
       "      <th>29</th>\n",
       "      <td>RNO.PA</td>\n",
       "      <td>118045.0</td>\n",
       "    </tr>\n",
       "    <tr>\n",
       "      <th>30</th>\n",
       "      <td>SAF.PA</td>\n",
       "      <td>161080.0</td>\n",
       "    </tr>\n",
       "    <tr>\n",
       "      <th>31</th>\n",
       "      <td>SAN.PA</td>\n",
       "      <td>472779.0</td>\n",
       "    </tr>\n",
       "    <tr>\n",
       "      <th>32</th>\n",
       "      <td>SGO.PA</td>\n",
       "      <td>206426.0</td>\n",
       "    </tr>\n",
       "    <tr>\n",
       "      <th>33</th>\n",
       "      <td>STLAM.MI</td>\n",
       "      <td>1072878.0</td>\n",
       "    </tr>\n",
       "    <tr>\n",
       "      <th>34</th>\n",
       "      <td>STMPA.PA</td>\n",
       "      <td>363301.0</td>\n",
       "    </tr>\n",
       "    <tr>\n",
       "      <th>35</th>\n",
       "      <td>SU.PA</td>\n",
       "      <td>235200.0</td>\n",
       "    </tr>\n",
       "    <tr>\n",
       "      <th>36</th>\n",
       "      <td>TEP.PA</td>\n",
       "      <td>24510.0</td>\n",
       "    </tr>\n",
       "    <tr>\n",
       "      <th>37</th>\n",
       "      <td>TTE.PA</td>\n",
       "      <td>816461.0</td>\n",
       "    </tr>\n",
       "    <tr>\n",
       "      <th>38</th>\n",
       "      <td>UBLB.F</td>\n",
       "      <td>1151799.0</td>\n",
       "    </tr>\n",
       "    <tr>\n",
       "      <th>39</th>\n",
       "      <td>VIE.PA</td>\n",
       "      <td>304341.0</td>\n",
       "    </tr>\n",
       "  </tbody>\n",
       "</table>\n",
       "</div>"
      ],
      "text/plain": [
       "      Symbol  NumShares\n",
       "0      AC.PA   100476.0\n",
       "1     ACA.PA  1273724.0\n",
       "2      AI.PA   243407.0\n",
       "3     AIR.PA   286518.0\n",
       "4      BN.PA   284798.0\n",
       "5     BNP.PA   458817.0\n",
       "6     BVI.PA   184709.0\n",
       "7      CA.PA   284658.0\n",
       "8     CAP.PA    68874.0\n",
       "9      CS.PA   942437.0\n",
       "10     DG.PA   251506.0\n",
       "11    DSY.PA   538003.0\n",
       "12   EDEN.PA   108992.0\n",
       "13     EL.PA   186680.0\n",
       "14     EN.PA   164720.0\n",
       "15   ENGI.PA  1077495.0\n",
       "16    ERF.PA    85489.0\n",
       "17    GLE.PA   332567.0\n",
       "18     HO.PA    89541.0\n",
       "19    KER.PA    47539.0\n",
       "20     LR.PA   107770.0\n",
       "21     MC.PA   187498.0\n",
       "22     ML.PA   286779.0\n",
       "23     MT.AS   310098.0\n",
       "24     OR.PA   246993.0\n",
       "25    ORA.PA  1186788.0\n",
       "26    PUB.PA   105631.0\n",
       "27     RI.PA   112661.0\n",
       "28    RMS.PA    43390.0\n",
       "29    RNO.PA   118045.0\n",
       "30    SAF.PA   161080.0\n",
       "31    SAN.PA   472779.0\n",
       "32    SGO.PA   206426.0\n",
       "33  STLAM.MI  1072878.0\n",
       "34  STMPA.PA   363301.0\n",
       "35     SU.PA   235200.0\n",
       "36    TEP.PA    24510.0\n",
       "37    TTE.PA   816461.0\n",
       "38    UBLB.F  1151799.0\n",
       "39    VIE.PA   304341.0"
      ]
     },
     "execution_count": 5,
     "metadata": {},
     "output_type": "execute_result"
    }
   ],
   "source": [
    "value = Valuation(20250331, \"caps\")\n",
    "df_weights = value.valuation_quarterly()\n",
    "df_weights"
   ]
  },
  {
   "cell_type": "code",
   "execution_count": 6,
   "id": "01d991b7",
   "metadata": {},
   "outputs": [
    {
     "data": {
      "application/vnd.microsoft.datawrangler.viewer.v0+json": {
       "columns": [
        {
         "name": "index",
         "rawType": "int64",
         "type": "integer"
        },
        {
         "name": "Symbol",
         "rawType": "object",
         "type": "string"
        },
        {
         "name": "NumShares",
         "rawType": "float64",
         "type": "float"
        }
       ],
       "conversionMethod": "pd.DataFrame",
       "ref": "46df4f4e-f644-48e5-b9d1-6856fa8db797",
       "rows": [
        [
         "0",
         "AC.PA",
         "0.0"
        ],
        [
         "1",
         "ACA.PA",
         "2861420.0"
        ],
        [
         "2",
         "AI.PA",
         "141850.0"
        ],
        [
         "3",
         "AIR.PA",
         "138277.0"
        ],
        [
         "4",
         "BN.PA",
         "581322.0"
        ],
        [
         "5",
         "BNP.PA",
         "667703.0"
        ],
        [
         "6",
         "BVI.PA",
         "534510.0"
        ],
        [
         "7",
         "CA.PA",
         "3365510.0"
        ],
        [
         "8",
         "CAP.PA",
         "13206.0"
        ],
        [
         "9",
         "CS.PA",
         "1312290.0"
        ],
        [
         "10",
         "DG.PA",
         "426088.0"
        ],
        [
         "11",
         "DSY.PA",
         "0.0"
        ],
        [
         "12",
         "EDEN.PA",
         "703447.0"
        ],
        [
         "13",
         "EL.PA",
         "0.0"
        ],
        [
         "14",
         "EN.PA",
         "1971530.0"
        ],
        [
         "15",
         "ENGI.PA",
         "2612817.0"
        ],
        [
         "16",
         "ERF.PA",
         "799030.0"
        ],
        [
         "17",
         "GLE.PA",
         "1133209.0"
        ],
        [
         "18",
         "HO.PA",
         "595367.0"
        ],
        [
         "19",
         "KER.PA",
         "0.0"
        ],
        [
         "20",
         "LR.PA",
         "0.0"
        ],
        [
         "21",
         "MC.PA",
         "0.0"
        ],
        [
         "22",
         "ML.PA",
         "213056.0"
        ],
        [
         "23",
         "MT.AS",
         "414848.0"
        ],
        [
         "24",
         "OR.PA",
         "50625.0"
        ],
        [
         "25",
         "ORA.PA",
         "3643581.0"
        ],
        [
         "26",
         "PUB.PA",
         "0.0"
        ],
        [
         "27",
         "RI.PA",
         "0.0"
        ],
        [
         "28",
         "RMS.PA",
         "0.0"
        ],
        [
         "29",
         "RNO.PA",
         "18015.0"
        ],
        [
         "30",
         "SAF.PA",
         "62894.0"
        ],
        [
         "31",
         "SAN.PA",
         "196274.0"
        ],
        [
         "32",
         "SGO.PA",
         "58367.0"
        ],
        [
         "33",
         "STLAM.MI",
         "0.0"
        ],
        [
         "34",
         "STMPA.PA",
         "0.0"
        ],
        [
         "35",
         "SU.PA",
         "0.0"
        ],
        [
         "36",
         "TEP.PA",
         "307649.0"
        ],
        [
         "37",
         "TTE.PA",
         "823639.0"
        ],
        [
         "38",
         "UBLB.F",
         "2134722.0"
        ],
        [
         "39",
         "VIE.PA",
         "2296094.0"
        ]
       ],
       "shape": {
        "columns": 2,
        "rows": 40
       }
      },
      "text/html": [
       "<div>\n",
       "<style scoped>\n",
       "    .dataframe tbody tr th:only-of-type {\n",
       "        vertical-align: middle;\n",
       "    }\n",
       "\n",
       "    .dataframe tbody tr th {\n",
       "        vertical-align: top;\n",
       "    }\n",
       "\n",
       "    .dataframe thead th {\n",
       "        text-align: right;\n",
       "    }\n",
       "</style>\n",
       "<table border=\"1\" class=\"dataframe\">\n",
       "  <thead>\n",
       "    <tr style=\"text-align: right;\">\n",
       "      <th></th>\n",
       "      <th>Symbol</th>\n",
       "      <th>NumShares</th>\n",
       "    </tr>\n",
       "  </thead>\n",
       "  <tbody>\n",
       "    <tr>\n",
       "      <th>0</th>\n",
       "      <td>AC.PA</td>\n",
       "      <td>0.0</td>\n",
       "    </tr>\n",
       "    <tr>\n",
       "      <th>1</th>\n",
       "      <td>ACA.PA</td>\n",
       "      <td>2861420.0</td>\n",
       "    </tr>\n",
       "    <tr>\n",
       "      <th>2</th>\n",
       "      <td>AI.PA</td>\n",
       "      <td>141850.0</td>\n",
       "    </tr>\n",
       "    <tr>\n",
       "      <th>3</th>\n",
       "      <td>AIR.PA</td>\n",
       "      <td>138277.0</td>\n",
       "    </tr>\n",
       "    <tr>\n",
       "      <th>4</th>\n",
       "      <td>BN.PA</td>\n",
       "      <td>581322.0</td>\n",
       "    </tr>\n",
       "    <tr>\n",
       "      <th>5</th>\n",
       "      <td>BNP.PA</td>\n",
       "      <td>667703.0</td>\n",
       "    </tr>\n",
       "    <tr>\n",
       "      <th>6</th>\n",
       "      <td>BVI.PA</td>\n",
       "      <td>534510.0</td>\n",
       "    </tr>\n",
       "    <tr>\n",
       "      <th>7</th>\n",
       "      <td>CA.PA</td>\n",
       "      <td>3365510.0</td>\n",
       "    </tr>\n",
       "    <tr>\n",
       "      <th>8</th>\n",
       "      <td>CAP.PA</td>\n",
       "      <td>13206.0</td>\n",
       "    </tr>\n",
       "    <tr>\n",
       "      <th>9</th>\n",
       "      <td>CS.PA</td>\n",
       "      <td>1312290.0</td>\n",
       "    </tr>\n",
       "    <tr>\n",
       "      <th>10</th>\n",
       "      <td>DG.PA</td>\n",
       "      <td>426088.0</td>\n",
       "    </tr>\n",
       "    <tr>\n",
       "      <th>11</th>\n",
       "      <td>DSY.PA</td>\n",
       "      <td>0.0</td>\n",
       "    </tr>\n",
       "    <tr>\n",
       "      <th>12</th>\n",
       "      <td>EDEN.PA</td>\n",
       "      <td>703447.0</td>\n",
       "    </tr>\n",
       "    <tr>\n",
       "      <th>13</th>\n",
       "      <td>EL.PA</td>\n",
       "      <td>0.0</td>\n",
       "    </tr>\n",
       "    <tr>\n",
       "      <th>14</th>\n",
       "      <td>EN.PA</td>\n",
       "      <td>1971530.0</td>\n",
       "    </tr>\n",
       "    <tr>\n",
       "      <th>15</th>\n",
       "      <td>ENGI.PA</td>\n",
       "      <td>2612817.0</td>\n",
       "    </tr>\n",
       "    <tr>\n",
       "      <th>16</th>\n",
       "      <td>ERF.PA</td>\n",
       "      <td>799030.0</td>\n",
       "    </tr>\n",
       "    <tr>\n",
       "      <th>17</th>\n",
       "      <td>GLE.PA</td>\n",
       "      <td>1133209.0</td>\n",
       "    </tr>\n",
       "    <tr>\n",
       "      <th>18</th>\n",
       "      <td>HO.PA</td>\n",
       "      <td>595367.0</td>\n",
       "    </tr>\n",
       "    <tr>\n",
       "      <th>19</th>\n",
       "      <td>KER.PA</td>\n",
       "      <td>0.0</td>\n",
       "    </tr>\n",
       "    <tr>\n",
       "      <th>20</th>\n",
       "      <td>LR.PA</td>\n",
       "      <td>0.0</td>\n",
       "    </tr>\n",
       "    <tr>\n",
       "      <th>21</th>\n",
       "      <td>MC.PA</td>\n",
       "      <td>0.0</td>\n",
       "    </tr>\n",
       "    <tr>\n",
       "      <th>22</th>\n",
       "      <td>ML.PA</td>\n",
       "      <td>213056.0</td>\n",
       "    </tr>\n",
       "    <tr>\n",
       "      <th>23</th>\n",
       "      <td>MT.AS</td>\n",
       "      <td>414848.0</td>\n",
       "    </tr>\n",
       "    <tr>\n",
       "      <th>24</th>\n",
       "      <td>OR.PA</td>\n",
       "      <td>50625.0</td>\n",
       "    </tr>\n",
       "    <tr>\n",
       "      <th>25</th>\n",
       "      <td>ORA.PA</td>\n",
       "      <td>3643581.0</td>\n",
       "    </tr>\n",
       "    <tr>\n",
       "      <th>26</th>\n",
       "      <td>PUB.PA</td>\n",
       "      <td>0.0</td>\n",
       "    </tr>\n",
       "    <tr>\n",
       "      <th>27</th>\n",
       "      <td>RI.PA</td>\n",
       "      <td>0.0</td>\n",
       "    </tr>\n",
       "    <tr>\n",
       "      <th>28</th>\n",
       "      <td>RMS.PA</td>\n",
       "      <td>0.0</td>\n",
       "    </tr>\n",
       "    <tr>\n",
       "      <th>29</th>\n",
       "      <td>RNO.PA</td>\n",
       "      <td>18015.0</td>\n",
       "    </tr>\n",
       "    <tr>\n",
       "      <th>30</th>\n",
       "      <td>SAF.PA</td>\n",
       "      <td>62894.0</td>\n",
       "    </tr>\n",
       "    <tr>\n",
       "      <th>31</th>\n",
       "      <td>SAN.PA</td>\n",
       "      <td>196274.0</td>\n",
       "    </tr>\n",
       "    <tr>\n",
       "      <th>32</th>\n",
       "      <td>SGO.PA</td>\n",
       "      <td>58367.0</td>\n",
       "    </tr>\n",
       "    <tr>\n",
       "      <th>33</th>\n",
       "      <td>STLAM.MI</td>\n",
       "      <td>0.0</td>\n",
       "    </tr>\n",
       "    <tr>\n",
       "      <th>34</th>\n",
       "      <td>STMPA.PA</td>\n",
       "      <td>0.0</td>\n",
       "    </tr>\n",
       "    <tr>\n",
       "      <th>35</th>\n",
       "      <td>SU.PA</td>\n",
       "      <td>0.0</td>\n",
       "    </tr>\n",
       "    <tr>\n",
       "      <th>36</th>\n",
       "      <td>TEP.PA</td>\n",
       "      <td>307649.0</td>\n",
       "    </tr>\n",
       "    <tr>\n",
       "      <th>37</th>\n",
       "      <td>TTE.PA</td>\n",
       "      <td>823639.0</td>\n",
       "    </tr>\n",
       "    <tr>\n",
       "      <th>38</th>\n",
       "      <td>UBLB.F</td>\n",
       "      <td>2134722.0</td>\n",
       "    </tr>\n",
       "    <tr>\n",
       "      <th>39</th>\n",
       "      <td>VIE.PA</td>\n",
       "      <td>2296094.0</td>\n",
       "    </tr>\n",
       "  </tbody>\n",
       "</table>\n",
       "</div>"
      ],
      "text/plain": [
       "      Symbol  NumShares\n",
       "0      AC.PA        0.0\n",
       "1     ACA.PA  2861420.0\n",
       "2      AI.PA   141850.0\n",
       "3     AIR.PA   138277.0\n",
       "4      BN.PA   581322.0\n",
       "5     BNP.PA   667703.0\n",
       "6     BVI.PA   534510.0\n",
       "7      CA.PA  3365510.0\n",
       "8     CAP.PA    13206.0\n",
       "9      CS.PA  1312290.0\n",
       "10     DG.PA   426088.0\n",
       "11    DSY.PA        0.0\n",
       "12   EDEN.PA   703447.0\n",
       "13     EL.PA        0.0\n",
       "14     EN.PA  1971530.0\n",
       "15   ENGI.PA  2612817.0\n",
       "16    ERF.PA   799030.0\n",
       "17    GLE.PA  1133209.0\n",
       "18     HO.PA   595367.0\n",
       "19    KER.PA        0.0\n",
       "20     LR.PA        0.0\n",
       "21     MC.PA        0.0\n",
       "22     ML.PA   213056.0\n",
       "23     MT.AS   414848.0\n",
       "24     OR.PA    50625.0\n",
       "25    ORA.PA  3643581.0\n",
       "26    PUB.PA        0.0\n",
       "27     RI.PA        0.0\n",
       "28    RMS.PA        0.0\n",
       "29    RNO.PA    18015.0\n",
       "30    SAF.PA    62894.0\n",
       "31    SAN.PA   196274.0\n",
       "32    SGO.PA    58367.0\n",
       "33  STLAM.MI        0.0\n",
       "34  STMPA.PA        0.0\n",
       "35     SU.PA        0.0\n",
       "36    TEP.PA   307649.0\n",
       "37    TTE.PA   823639.0\n",
       "38    UBLB.F  2134722.0\n",
       "39    VIE.PA  2296094.0"
      ]
     },
     "execution_count": 6,
     "metadata": {},
     "output_type": "execute_result"
    }
   ],
   "source": [
    "value = Valuation(20250331, \"msr\")\n",
    "df_weights = value.valuation_quarterly()\n",
    "df_weights"
   ]
  }
 ],
 "metadata": {
  "kernelspec": {
   "display_name": "idx",
   "language": "python",
   "name": "python3"
  },
  "language_info": {
   "codemirror_mode": {
    "name": "ipython",
    "version": 3
   },
   "file_extension": ".py",
   "mimetype": "text/x-python",
   "name": "python",
   "nbconvert_exporter": "python",
   "pygments_lexer": "ipython3",
   "version": "3.11.11"
  }
 },
 "nbformat": 4,
 "nbformat_minor": 5
}
