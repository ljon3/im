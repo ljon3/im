{
 "cells": [
  {
   "cell_type": "code",
   "execution_count": 1,
   "id": "9798c5ae",
   "metadata": {},
   "outputs": [],
   "source": [
    "import pandas as pd\n",
    "import yfinance as yf\n",
    "import numpy as np\n",
    "from valuation.Manager import Valuation\n",
    "from utilities.utils import fullpath, get_datestr\n",
    "from datetime import datetime, timedelta"
   ]
  },
  {
   "cell_type": "code",
   "execution_count": 3,
   "id": "865fe917",
   "metadata": {},
   "outputs": [
    {
     "data": {
      "text/plain": [
       "Timestamp('2025-03-31 00:00:00')"
      ]
     },
     "execution_count": 3,
     "metadata": {},
     "output_type": "execute_result"
    }
   ],
   "source": [
    "value.last_working_day"
   ]
  },
  {
   "cell_type": "code",
   "execution_count": 8,
   "id": "16447529",
   "metadata": {},
   "outputs": [
    {
     "name": "stdout",
     "output_type": "stream",
     "text": [
      "         Date      AC.PA  ACA.PA       AI.PA      AIR.PA      BN.PA  \\\n",
      "0  2024-12-02  43.459999  12.560  159.539993  150.520004  64.839996   \n",
      "1  2024-12-03  43.759998  12.510  160.020004  152.080002  64.800003   \n",
      "2  2024-12-04  44.000000  12.635  161.160004  154.220001  64.739998   \n",
      "3  2024-12-05  46.099998  12.925  161.660004  153.539993  64.980003   \n",
      "4  2024-12-06  46.020000  13.035  162.059998  155.160004  64.860001   \n",
      "..        ...        ...     ...         ...         ...        ...   \n",
      "78 2025-03-25  44.910000  17.295  178.720001  172.320007  71.059998   \n",
      "79 2025-03-26  44.820000  17.135  176.740005  170.539993  70.540001   \n",
      "80 2025-03-27  44.220001  17.090  176.440002  168.699997  70.820000   \n",
      "81 2025-03-28  42.790001  16.945  176.320007  166.259995  70.820000   \n",
      "82 2025-03-31  41.889999  16.775  175.139999  162.779999  70.839996   \n",
      "\n",
      "       BNP.PA     BVI.PA   CA.PA      CAP.PA  ...      SAF.PA      SAN.PA  \\\n",
      "0   55.939999  28.820000  13.710  150.850006  ...  221.800003   91.820000   \n",
      "1   55.779999  28.980000  13.860  152.100006  ...  227.300003   91.669998   \n",
      "2   56.500000  29.379999  14.030  153.899994  ...  228.600006   91.349998   \n",
      "3   57.970001  29.520000  14.050  155.000000  ...  211.899994   91.800003   \n",
      "4   58.570000  29.660000  14.145  157.449997  ...  212.899994   92.180000   \n",
      "..        ...        ...     ...         ...  ...         ...         ...   \n",
      "78  81.580002  28.520000  12.955  147.600006  ...  253.899994  103.720001   \n",
      "79  80.400002  28.260000  12.950  148.000000  ...  250.800003  101.459999   \n",
      "80  79.669998  28.340000  13.105  147.100006  ...  248.399994  101.860001   \n",
      "81  78.550003  28.200001  13.255  145.300003  ...  245.699997  103.400002   \n",
      "82  76.910004  27.940001  13.220  138.050003  ...  242.000000  101.919998   \n",
      "\n",
      "        SGO.PA  STLAM.MI   STMPA.PA       SU.PA     TEP.PA     TTE.PA  UBLB.F  \\\n",
      "0    84.519997    11.746  24.436029  243.100006  87.599998  52.298107    3.76   \n",
      "1    86.120003    11.934  24.232603  243.850006  85.839996  52.628620    3.64   \n",
      "2    86.260002    12.090  24.530300  249.100006  86.500000  52.434200    3.66   \n",
      "3    88.019997    12.548  24.684113  248.649994  87.419998  52.550854    3.72   \n",
      "4    90.019997    12.948  24.882578  251.699997  88.180000  52.716106    3.74   \n",
      "..         ...       ...        ...         ...        ...        ...     ...   \n",
      "78  100.099998    11.400  22.445000  234.000000  93.879997  58.560001    3.70   \n",
      "79   99.599998    11.394  21.545000  228.399994  94.059998  60.410000    3.76   \n",
      "80   98.459999    10.912  21.290001  225.300003  98.459999  60.509998    3.74   \n",
      "81   96.559998    10.482  20.510000  217.149994  96.300003  59.209999    3.78   \n",
      "82   91.699997    10.262  20.000000  210.750000  92.480003  59.660000    3.76   \n",
      "\n",
      "       VIE.PA  \n",
      "0   27.330000  \n",
      "1   27.400000  \n",
      "2   27.370001  \n",
      "3   28.110001  \n",
      "4   28.250000  \n",
      "..        ...  \n",
      "78  31.830000  \n",
      "79  31.790001  \n",
      "80  32.099998  \n",
      "81  32.150002  \n",
      "82  31.750000  \n",
      "\n",
      "[83 rows x 41 columns]\n",
      "       index           82\n",
      "0      AC.PA    41.889999\n",
      "1     ACA.PA    16.775000\n",
      "2      AI.PA   175.139999\n",
      "3     AIR.PA   162.779999\n",
      "4      BN.PA    70.839996\n",
      "5     BNP.PA    76.910004\n",
      "6     BVI.PA    27.940001\n",
      "7      CA.PA    13.220000\n",
      "8     CAP.PA   138.050003\n",
      "9      CS.PA    39.400002\n",
      "10     DG.PA   116.300003\n",
      "11    DSY.PA    34.939999\n",
      "12   EDEN.PA    29.940001\n",
      "13     EL.PA   265.399994\n",
      "14     EN.PA    36.410000\n",
      "15   ENGI.PA    18.035000\n",
      "16    ERF.PA    49.220001\n",
      "17    GLE.PA    41.389999\n",
      "18     HO.PA   245.600006\n",
      "19    KER.PA   190.919998\n",
      "20     LR.PA    97.239998\n",
      "21     MC.PA   571.700012\n",
      "22     ML.PA    32.410000\n",
      "23     MT.AS    26.469999\n",
      "24     OR.PA   342.850006\n",
      "25    ORA.PA    11.995000\n",
      "26    PUB.PA    86.739998\n",
      "27     RI.PA    91.260002\n",
      "28    RMS.PA  2411.000000\n",
      "29    RNO.PA    46.549999\n",
      "30    SAF.PA   242.000000\n",
      "31    SAN.PA   101.919998\n",
      "32    SGO.PA    91.699997\n",
      "33  STLAM.MI    10.262000\n",
      "34  STMPA.PA    20.000000\n",
      "35     SU.PA   210.750000\n",
      "36    TEP.PA    92.480003\n",
      "37    TTE.PA    59.660000\n",
      "38    UBLB.F     3.760000\n",
      "39    VIE.PA    31.750000\n"
     ]
    }
   ],
   "source": [
    "value = Valuation(20250331, \"cw\")\n",
    "df_weights = value.valuation_quarterly()"
   ]
  },
  {
   "cell_type": "code",
   "execution_count": null,
   "id": "1566e6c2",
   "metadata": {},
   "outputs": [],
   "source": [
    "all_quarters = pd.read_csv(\"data/quarters.txt\",names=[\"Dates\"],skiprows=1)\n",
    "all_quarters.Dates = pd.to_datetime(all_quarters.Dates, format=\"%Y%m%d\").dt.date\n",
    "all_quarters"
   ]
  },
  {
   "cell_type": "code",
   "execution_count": null,
   "id": "5d26a8bf",
   "metadata": {},
   "outputs": [],
   "source": [
    "# create daily valuation\n",
    "today = datetime.today()\n",
    "t1 = timedelta(days=1)\n",
    "\n",
    "current_quarter = fullpath(value.folder_path_quarterly, today.strftime(\"%Y%m%d\")+\".csv\")\n",
    "df_num_shares = pd.read_csv(fullpath( value.folder_path_quarterly, get_datestr(value.previous_quarter)+\".csv\" ))\n",
    "\n",
    "symbol = df_num_shares[\"Symbol\"].to_list()\n",
    "\n",
    "market_data = yf.download(symbol, start=today-t1*7, end=today, interval=\"1d\", group_by=\"column\") \n",
    "market_data = market_data.xs(\"Close\",level=0, axis=1)\n",
    "\n",
    "# check market data and symbol alignment\n",
    "if all(market_data.columns == symbol):\n",
    "    prices = np.matrix( market_data.values )\n",
    "    num_shares = np.matrix(df_num_shares[\"NumShares\"]).transpose()\n",
    "\n",
    "    # check inner size of matrix prior to multiplication\n",
    "    if prices.shape[1] == num_shares.shape[0]:\n",
    "        portfolio_value = prices @ num_shares\n",
    "        df_portfolio_value = pd.DataFrame(portfolio_value, columns=[\"Portfolio\"])\n",
    "        df_portfolio_value.index = market_data.index.date\n",
    "\n",
    "        # publish daily portfolio value\n",
    "        for d in range(len(df_portfolio_value)):\n",
    "            current_dte = df_portfolio_value.iloc[d,:].name.strftime(\"%Y%m%d\")\n",
    "            fname = fullpath(\"data\",\"valuation\",\"daily\",\"cw\",current_dte+\".csv\")\n",
    "            df_portfolio_value.iloc[[d]].to_csv(fname, index=False,header=False)\n",
    "\n"
   ]
  },
  {
   "cell_type": "code",
   "execution_count": null,
   "id": "f3de78ea",
   "metadata": {},
   "outputs": [],
   "source": [
    "df_portfolio_value"
   ]
  }
 ],
 "metadata": {
  "kernelspec": {
   "display_name": "idx",
   "language": "python",
   "name": "python3"
  },
  "language_info": {
   "codemirror_mode": {
    "name": "ipython",
    "version": 3
   },
   "file_extension": ".py",
   "mimetype": "text/x-python",
   "name": "python",
   "nbconvert_exporter": "python",
   "pygments_lexer": "ipython3",
   "version": "3.11.11"
  }
 },
 "nbformat": 4,
 "nbformat_minor": 5
}
